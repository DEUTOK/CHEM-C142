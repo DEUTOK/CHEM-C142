{
 "cells": [
  {
   "cell_type": "markdown",
   "id": "6c5ac91b",
   "metadata": {},
   "source": [
    "# Tutorial 12\n",
    "\n",
    "## Outline\n",
    "\n",
    "+ Transformer model\n",
    "\n",
    "## Introduction\n",
    "\n",
    "+ Paper: [Attention is all you need](https://proceedings.neurips.cc/paper_files/paper/2017/file/3f5ee243547dee91fbd053c1c4a845aa-Paper.pdf)\n",
    "\n",
    "+ MultiheadAttention:\n",
    "\n",
    "$$ \\mathrm{MultiheadAttention}(Q,K,V)=\\mathrm{Concat(head_0,head_1,\\cdots,head_h)}W^O $$\n",
    "\n",
    "$$ \\mathrm{head}_i=\\mathrm{Attention}(QW_i^Q,KW_i^K,VW_i^V)$$\n",
    "\n",
    "$$ \\mathrm{Attention} = \\mathrm{softmax}\\left(\\frac{QK^T}{\\sqrt{d_k}}\\right)V $$\n",
    "\n",
    "+ Transformer:\n",
    "\n",
    "<img src='https://machinelearningmastery.com/wp-content/uploads/2021/08/attention_research_1.png' width=\"400\" />\n",
    "\n",
    "Positional encoding:\n",
    "\n",
    "$$ \\mathrm{PE}_{\\mathrm{pos},2i} = \\sin (\\mathrm{pos} * 10000^{-2i / d}) $$\n",
    "\n",
    "$$ \\mathrm{PE}_{\\mathrm{pos},2i+1} = \\cos (\\mathrm{pos} * 10000^{-2i / d}) $$\n",
    "\n",
    "Feed forward NN:\n",
    "\n",
    "$$ \\mathrm{FFN}(x) = \\mathrm{ReLU}(xW_1+b_1)W_2+b_2 $$\n",
    "\n",
    "Masking: \n",
    "\n",
    "$$ \\mathrm{Attention} = \\mathrm{softmax}\\left(\\frac{QK^T}{\\sqrt{d_k}}+M\\right)V $$\n",
    "\n",
    "For unwanted positions, apply a large negative value in $M$ to zero-out attention.\n",
    "\n",
    "## PyTorch APIs:\n",
    "\n",
    "+ [torch.nn.MultiheadAttention](https://pytorch.org/docs/stable/generated/torch.nn.MultiheadAttention.html#torch.nn.MultiheadAttention)\n",
    "+ [torch.nn.Transformer](https://pytorch.org/docs/stable/generated/torch.nn.Transformer.html#transformer)\n",
    "+ [torch.nn.TransformerEncoderLayer](https://pytorch.org/docs/stable/generated/torch.nn.TransformerEncoderLayer.html#transformerencoderlayer)\n",
    "+ [torch.nn.TransformerDecoderLayer](https://pytorch.org/docs/stable/generated/torch.nn.TransformerDecoderLayer.html#transformerdecoderlayer) \n"
   ]
  },
  {
   "cell_type": "markdown",
   "id": "909fa22c",
   "metadata": {},
   "source": [
    "## Implement a MultiheadAttention Layer from scratch"
   ]
  },
  {
   "cell_type": "code",
   "execution_count": 1,
   "id": "5aea67a8",
   "metadata": {},
   "outputs": [],
   "source": [
    "import math\n",
    "import warnings\n",
    "warnings.filterwarnings('ignore')\n",
    "import torch\n",
    "import torch.nn as nn\n",
    "from torch import Tensor\n",
    "from torch.utils.data import Dataset, DataLoader\n",
    "from torch.nn.utils.rnn import pad_sequence\n",
    "from typing import Iterable, List\n",
    "from tqdm import tqdm\n",
    "import numpy as np\n",
    "import matplotlib.pyplot as plt"
   ]
  },
  {
   "cell_type": "code",
   "execution_count": 4,
   "id": "2877b28a",
   "metadata": {},
   "outputs": [],
   "source": [
    "class MultiheadAttention(nn.Module):\n",
    "    def __init__(self, dim, k_dim, v_dim, num_heads):\n",
    "        super().__init__()\n",
    "        self.num_heads = num_heads\n",
    "        assert k_dim % num_heads == 0, \"k_dim can not be truly divied by num_heads\"\n",
    "        assert v_dim % num_heads == 0, \"v_dim can not be truly divied by num_heads\"\n",
    "        \n",
    "        k_proj_dim = k_dim // num_heads\n",
    "        v_proj_dim = v_dim // num_heads\n",
    "        \n",
    "        self.sqrt_k_proj_dim = math.sqrt(k_proj_dim)\n",
    "        \n",
    "        self.query_projects = nn.ModuleList([\n",
    "            nn.Linear(k_dim, k_proj_dim) for _ in range(num_heads)\n",
    "        ])\n",
    "        self.key_projects = nn.ModuleList([\n",
    "            nn.Linear(k_dim, k_proj_dim) for _ in range(num_heads)\n",
    "        ])\n",
    "        self.value_projects = nn.ModuleList(\n",
    "            nn.Linear(v_dim, v_proj_dim) for _ in range(num_heads)\n",
    "        )\n",
    "        self.final_project = nn.Linear(v_dim, dim)\n",
    "        self.softmax = nn.Softmax(dim=-1)\n",
    "        \n",
    "    def forward(self, query, key, value):\n",
    "        heads = []\n",
    "        for i in range(self.num_heads):\n",
    "            q_proj = self.query_projects[i](query)\n",
    "            k_proj = self.key_projects[i](key)\n",
    "            v_proj = self.value_projects[i](value)\n",
    "            \n",
    "            # batch_first\n",
    "            scaled_dot_product = torch.matmul(q_proj, k_proj.transpose(-2,-1))\n",
    "            scaled_dot_product /= self.sqrt_k_proj_dim\n",
    "            head = torch.matmul(self.softmax(scaled_dot_product), v_proj)\n",
    "            heads.append(head)\n",
    "        \n",
    "        out = self.final_project(torch.cat(heads, dim=-1))\n",
    "        return out"
   ]
  },
  {
   "cell_type": "code",
   "execution_count": 5,
   "id": "70438d44",
   "metadata": {},
   "outputs": [
    {
     "data": {
      "text/plain": [
       "torch.Size([10, 5, 128])"
      ]
     },
     "execution_count": 5,
     "metadata": {},
     "output_type": "execute_result"
    }
   ],
   "source": [
    "dim = 128\n",
    "k_dim = 512\n",
    "v_dim = 256\n",
    "num_heads = 4\n",
    "\n",
    "batch_size = 10\n",
    "seq_len = 5\n",
    "\n",
    "query = torch.rand((batch_size, seq_len, k_dim))\n",
    "key = torch.rand((batch_size, seq_len, k_dim))\n",
    "value = torch.rand((batch_size, seq_len, v_dim))\n",
    "\n",
    "attn = MultiheadAttention(dim, k_dim, v_dim, num_heads)\n",
    "attn(query, key, value).shape"
   ]
  },
  {
   "cell_type": "markdown",
   "id": "b362a1ea",
   "metadata": {},
   "source": [
    "## More challenging: English-French Translation"
   ]
  },
  {
   "cell_type": "markdown",
   "id": "0a4cfbd4",
   "metadata": {},
   "source": [
    "### Data Preparation"
   ]
  },
  {
   "cell_type": "code",
   "execution_count": 6,
   "id": "b6db1a27",
   "metadata": {},
   "outputs": [],
   "source": [
    "SOS_TOKEN, SOS_IDX = \"[SOS]\", 0\n",
    "EOS_TOKEN, EOS_IDX = \"[EOS]\", 1\n",
    "PAD_TOKEN, PAD_IDX = \"[PAD]\", 2\n",
    "MAX_LEN = 9\n",
    "DEVICE = 'cpu'\n",
    "\n",
    "class Tokenizer:\n",
    "    def __init__(self, name):\n",
    "        self.name = name\n",
    "        self.word2index = {\n",
    "            SOS_TOKEN: SOS_IDX,\n",
    "            EOS_TOKEN: EOS_IDX,\n",
    "            PAD_TOKEN: PAD_IDX\n",
    "        }\n",
    "        self.word2count = {}\n",
    "        self.index2word = {\n",
    "            SOS_IDX: SOS_TOKEN,\n",
    "            EOS_IDX: EOS_TOKEN,\n",
    "            PAD_IDX: PAD_TOKEN\n",
    "        }\n",
    "        self.n_words = 3  # Count SOS and EOS\n",
    "\n",
    "    def addSentence(self, sentence):\n",
    "        for word in sentence.split(' '):\n",
    "            self.addWord(word)\n",
    "\n",
    "    def addWord(self, word):\n",
    "        if word not in self.word2index:\n",
    "            self.word2index[word] = self.n_words\n",
    "            self.word2count[word] = 1\n",
    "            self.index2word[self.n_words] = word\n",
    "            self.n_words += 1\n",
    "        else:\n",
    "            self.word2count[word] += 1\n",
    "    \n",
    "    def tokenizeSentence(self, sentence):\n",
    "        return [SOS_IDX] + [self.word2index[w] for w in sentence.split(' ')] + [EOS_IDX]\n",
    "    \n",
    "    def detokenizeSentence(self, tokens):\n",
    "        return ' '.join(self.index2word[int(i)] for i in tokens).replace(EOS_TOKEN, \"\").replace(SOS_TOKEN, \"\").strip()\n",
    "    \n",
    "    \n",
    "    \n",
    "def get_raw_data(fname):\n",
    "    src_raw = []\n",
    "    tgt_raw = []\n",
    "    with open(fname) as f:\n",
    "        for line in f:\n",
    "            src, tgt = line.strip('\\n').split('\\t')\n",
    "            src_raw.append(src)\n",
    "            tgt_raw.append(tgt)\n",
    "    return np.array(src_raw), np.array(tgt_raw)\n",
    "\n",
    "\n",
    "def init_tokenizer(src_raw, tgt_raw):\n",
    "    src_tok = Tokenizer('src')\n",
    "    tgt_tok = Tokenizer('tgt')\n",
    "    for src, tgt in zip(src_raw, tgt_raw):\n",
    "        src_tok.addSentence(src)\n",
    "        tgt_tok.addSentence(tgt)\n",
    "    return src_tok, tgt_tok\n",
    "\n",
    "\n",
    "class Eng2FraDataset(Dataset):\n",
    "    def __init__(self, src_raw, tgt_raw, src_tok, tgt_tok):\n",
    "        super().__init__()\n",
    "        self.src_raw = src_raw\n",
    "        self.tgt_raw = tgt_raw\n",
    "        \n",
    "        self.src_data = [torch.tensor(src_tok.tokenizeSentence(src), dtype=torch.long) for src in src_raw]\n",
    "        self.tgt_data = [torch.tensor(tgt_tok.tokenizeSentence(tgt), dtype=torch.long) for tgt in tgt_raw]\n",
    "        \n",
    "    def __getitem__(self, i):\n",
    "        return self.src_data[i], self.tgt_data[i]\n",
    "    \n",
    "    def __len__(self):\n",
    "        return len(self.src_data)\n",
    "\n",
    "\n",
    "def collate_fn(batch):\n",
    "    src = pad_sequence([b[0] for b in batch], padding_value=PAD_IDX)\n",
    "    tgt = pad_sequence([b[1] for b in batch], padding_value=PAD_IDX)\n",
    "    return src, tgt\n",
    "\n",
    "\n",
    "src_raw, tgt_raw = get_raw_data(\"eng-fra-selected.txt\")\n",
    "src_tok, tgt_tok = init_tokenizer(src_raw, tgt_raw)"
   ]
  },
  {
   "cell_type": "markdown",
   "id": "0399aac7",
   "metadata": {},
   "source": [
    "### Model definition"
   ]
  },
  {
   "cell_type": "code",
   "execution_count": 7,
   "id": "7f9c25bf",
   "metadata": {},
   "outputs": [],
   "source": [
    "class TokenEmbedding(nn.Module):\n",
    "    def __init__(self, vocab_size, emb_size):\n",
    "        super(TokenEmbedding, self).__init__()\n",
    "        self.embedding = nn.Embedding(vocab_size, emb_size, padding_idx=PAD_IDX)\n",
    "        self.emb_size = emb_size\n",
    "\n",
    "    def forward(self, tokens):\n",
    "        return self.embedding(tokens.long()) * math.sqrt(self.emb_size)"
   ]
  },
  {
   "cell_type": "code",
   "execution_count": 8,
   "id": "2a7f1606",
   "metadata": {
    "scrolled": true
   },
   "outputs": [],
   "source": [
    "class PositionalEncoding(nn.Module):\n",
    "    def __init__(self,\n",
    "                 emb_size: int,\n",
    "                 dropout: float,\n",
    "                 maxlen: int = 100):\n",
    "        super(PositionalEncoding, self).__init__()\n",
    "        den = torch.exp(-torch.arange(0, emb_size, 2) * math.log(10000) / emb_size)\n",
    "        pos = torch.arange(0, maxlen).reshape(maxlen, 1)\n",
    "        pos_embedding = torch.zeros((maxlen, emb_size))\n",
    "        pos_embedding[:, 0::2] = torch.sin(pos * den)\n",
    "        pos_embedding[:, 1::2] = torch.cos(pos * den)\n",
    "        pos_embedding = pos_embedding.unsqueeze(-2)\n",
    "\n",
    "        self.dropout = nn.Dropout(dropout)\n",
    "        self.register_buffer('pos_embedding', pos_embedding)\n",
    "\n",
    "    def forward(self, token_embedding):\n",
    "        return self.dropout(token_embedding + self.pos_embedding[:token_embedding.size(0), :])"
   ]
  },
  {
   "cell_type": "code",
   "execution_count": 9,
   "id": "bd5ce4b3",
   "metadata": {},
   "outputs": [],
   "source": [
    "class Seq2SeqTransformer(nn.Module):\n",
    "    def __init__(self,\n",
    "                 num_encoder_layers: int,\n",
    "                 num_decoder_layers: int,\n",
    "                 emb_size: int,\n",
    "                 nhead: int,\n",
    "                 src_vocab_size: int,\n",
    "                 tgt_vocab_size: int,\n",
    "                 dim_feedforward: int = 512,\n",
    "                 dropout: float = 0.1):\n",
    "        super(Seq2SeqTransformer, self).__init__()\n",
    "        self.transformer = nn.Transformer(\n",
    "            d_model=emb_size,\n",
    "            nhead=nhead,\n",
    "            num_encoder_layers=num_encoder_layers,\n",
    "            num_decoder_layers=num_decoder_layers,\n",
    "            dim_feedforward=dim_feedforward,\n",
    "            dropout=dropout\n",
    "        )\n",
    "        self.generator = nn.Linear(emb_size, tgt_vocab_size)\n",
    "        self.src_tok_emb = TokenEmbedding(src_vocab_size, emb_size)\n",
    "        self.tgt_tok_emb = TokenEmbedding(tgt_vocab_size, emb_size)\n",
    "        self.positional_encoding = PositionalEncoding(emb_size, dropout=dropout)\n",
    "\n",
    "    def forward(self,\n",
    "                src: Tensor,\n",
    "                trg: Tensor,\n",
    "                src_mask: Tensor,\n",
    "                tgt_mask: Tensor,\n",
    "                src_padding_mask: Tensor,\n",
    "                tgt_padding_mask: Tensor,\n",
    "                memory_key_padding_mask: Tensor):\n",
    "        src_emb = self.positional_encoding(self.src_tok_emb(src))\n",
    "        tgt_emb = self.positional_encoding(self.tgt_tok_emb(trg))\n",
    "        outs = self.transformer(\n",
    "            src_emb, tgt_emb, \n",
    "            src_mask, tgt_mask, None,\n",
    "            src_padding_mask, tgt_padding_mask, memory_key_padding_mask\n",
    "        )\n",
    "        return self.generator(outs)\n",
    "    \n",
    "\n",
    "    def encode(self, src: Tensor, src_mask: Tensor):\n",
    "        src_emb = self.positional_encoding(self.src_tok_emb(src))\n",
    "        return self.transformer.encoder(src_emb, src_mask)\n",
    "\n",
    "    def decode(self, tgt: Tensor, memory: Tensor, tgt_mask: Tensor):\n",
    "        tgt_emb = self.positional_encoding(self.tgt_tok_emb(tgt))\n",
    "        return self.transformer.decoder(tgt_emb, memory, tgt_mask)"
   ]
  },
  {
   "cell_type": "code",
   "execution_count": 10,
   "id": "a64ee556",
   "metadata": {},
   "outputs": [],
   "source": [
    "src_vocab_size = src_tok.n_words\n",
    "tgt_vocab_size = tgt_tok.n_words\n",
    "\n",
    "emb_size = 128\n",
    "nhead = 8\n",
    "ffn_hidden_dim = 128\n",
    "\n",
    "num_encoder_layers = 3\n",
    "num_decoder_layers = 3\n",
    "\n",
    "model = Seq2SeqTransformer(\n",
    "    num_encoder_layers, num_decoder_layers, emb_size,\n",
    "    nhead, src_vocab_size, tgt_vocab_size, ffn_hidden_dim\n",
    ").to(DEVICE)"
   ]
  },
  {
   "cell_type": "markdown",
   "id": "848396ae",
   "metadata": {},
   "source": [
    "### Train"
   ]
  },
  {
   "cell_type": "code",
   "execution_count": 11,
   "id": "c8bd77b4",
   "metadata": {},
   "outputs": [],
   "source": [
    "def generate_square_subsequent_mask(sz):\n",
    "    mask = (torch.triu(torch.ones((sz, sz), device=DEVICE)) == 1).transpose(0, 1)\n",
    "    mask = mask.float().masked_fill(mask == 0, float('-inf')).masked_fill(mask == 1, float(0.0))\n",
    "    return mask\n",
    "\n",
    "\n",
    "def create_mask(src, tgt):\n",
    "    src_seq_len = src.shape[0]\n",
    "    tgt_seq_len = tgt.shape[0]\n",
    "\n",
    "    tgt_mask = generate_square_subsequent_mask(tgt_seq_len)\n",
    "    src_mask = torch.zeros((src_seq_len, src_seq_len),device=DEVICE).type(torch.bool)\n",
    "\n",
    "    src_padding_mask = (src == PAD_IDX).transpose(0, 1)\n",
    "    tgt_padding_mask = (tgt == PAD_IDX).transpose(0, 1)\n",
    "    return src_mask, tgt_mask, src_padding_mask, tgt_padding_mask"
   ]
  },
  {
   "cell_type": "code",
   "execution_count": 12,
   "id": "efcae066",
   "metadata": {},
   "outputs": [],
   "source": [
    "class Trainer:\n",
    "    def __init__(self, model, batch_size, learning_rate, epoch, l2):\n",
    "        self.model = model\n",
    "        for p in model.parameters():\n",
    "            if p.dim() > 1:\n",
    "                nn.init.xavier_uniform_(p)\n",
    "        \n",
    "        num_params = sum(item.numel() for item in model.parameters())\n",
    "        print(f\"{model.__class__.__name__} - Number of parameters: {num_params}\")\n",
    "        \n",
    "        self.batch_size = batch_size\n",
    "        self.optimizer = torch.optim.Adam(self.model.parameters(), lr=learning_rate, weight_decay=l2)\n",
    "        self.epoch = epoch\n",
    "    \n",
    "    def train(self, data, draw_curve=True):\n",
    "        self.model.train()\n",
    "        loader = DataLoader(data, self.batch_size, shuffle=True, collate_fn=collate_fn)\n",
    "        loss_func = nn.CrossEntropyLoss(ignore_index=PAD_IDX)\n",
    "        epoch_loss_list = []\n",
    "        \n",
    "        for i in tqdm(range(self.epoch)):\n",
    "            num_data = 0\n",
    "            epoch_loss = 0.0\n",
    "            for src, tgt in loader:\n",
    "                src = src.to(DEVICE)\n",
    "                tgt = tgt.to(DEVICE)                \n",
    "                tgt_input = tgt[:-1, :]\n",
    "\n",
    "                src_mask, tgt_mask, src_padding_mask, tgt_padding_mask = create_mask(src, tgt_input)\n",
    "\n",
    "                logits = self.model(\n",
    "                    src, tgt_input, \n",
    "                    src_mask, tgt_mask, \n",
    "                    src_padding_mask, tgt_padding_mask, src_padding_mask\n",
    "                )\n",
    "\n",
    "                self.optimizer.zero_grad()\n",
    "\n",
    "                tgt_out = tgt[1:, :]\n",
    "                loss = loss_func(logits.reshape(-1, logits.shape[-1]), tgt_out.reshape(-1))\n",
    "                loss.backward()\n",
    "\n",
    "                self.optimizer.step()\n",
    "                \n",
    "                epoch_loss += loss.detach().cpu().numpy() * src.shape[1]\n",
    "                num_data += src.shape[1]\n",
    "            epoch_loss /= num_data\n",
    "            epoch_loss_list.append(epoch_loss)\n",
    "        if draw_curve:\n",
    "            fig, ax = plt.subplots(1, 1, figsize=(5, 4), constrained_layout=True)\n",
    "            # ax.set_yscale(\"log\")\n",
    "            ax.plot(np.arange(len(epoch_loss_list)), epoch_loss_list)\n",
    "            ax.set_xlabel(\"# Epoch\")\n",
    "            ax.set_ylabel(\"Loss\")\n",
    "        \n",
    "        return epoch_loss_list\n",
    "\n"
   ]
  },
  {
   "cell_type": "code",
   "execution_count": 13,
   "id": "92cacac9",
   "metadata": {},
   "outputs": [
    {
     "name": "stdout",
     "output_type": "stream",
     "text": [
      "Seq2SeqTransformer - Number of parameters: 2429882\n"
     ]
    }
   ],
   "source": [
    "train_data = Eng2FraDataset(src_raw[:512], tgt_raw[:512], src_tok, tgt_tok)\n",
    "trainer = Trainer(model, 256, 1e-3, 100, 0.0)"
   ]
  },
  {
   "cell_type": "code",
   "execution_count": 14,
   "id": "b3644f13",
   "metadata": {},
   "outputs": [
    {
     "name": "stderr",
     "output_type": "stream",
     "text": [
      "100%|█████████████████████████████████████████| 100/100 [00:54<00:00,  1.84it/s]\n"
     ]
    },
    {
     "data": {
      "image/png": "[encoded data removed]",
      "text/plain": [
       "<Figure size 500x400 with 1 Axes>"
      ]
     },
     "metadata": {},
     "output_type": "display_data"
    }
   ],
   "source": [
    "train_loss = trainer.train(train_data)"
   ]
  },
  {
   "cell_type": "code",
   "execution_count": 15,
   "id": "7df466df",
   "metadata": {},
   "outputs": [],
   "source": [
    "# function to generate output sequence using greedy algorithm\n",
    "def greedy_decode(model, src, src_mask, max_len, start_symbol):\n",
    "    src = src.to(DEVICE)\n",
    "    src_mask = src_mask.to(DEVICE)\n",
    "\n",
    "    memory = model.encode(src, src_mask)\n",
    "    ys = torch.ones(1, 1).fill_(start_symbol).type(torch.long).to(DEVICE)\n",
    "    for i in range(max_len-1):\n",
    "        memory = memory.to(DEVICE)\n",
    "        tgt_mask = (generate_square_subsequent_mask(ys.size(0))\n",
    "                    .type(torch.bool)).to(DEVICE)\n",
    "        out = model.decode(ys, memory, tgt_mask)\n",
    "        out = out.transpose(0, 1)\n",
    "        prob = model.generator(out[:, -1])\n",
    "        _, next_word = torch.max(prob, dim=1)\n",
    "        next_word = next_word.item()\n",
    "\n",
    "        ys = torch.cat([ys,\n",
    "                        torch.ones(1, 1).type_as(src.data).fill_(next_word)], dim=0)\n",
    "        if next_word == EOS_IDX:\n",
    "            break\n",
    "    return ys\n",
    "\n",
    "# actual function to translate input sentence into target language\n",
    "def translate(model: torch.nn.Module, src_sentence: str):\n",
    "    model.eval()\n",
    "    src = torch.tensor(src_tok.tokenizeSentence(src_sentence)).view(-1, 1)\n",
    "    num_tokens = src.shape[0]\n",
    "    src_mask = (torch.zeros(num_tokens, num_tokens)).type(torch.bool)\n",
    "    tgt_tokens = greedy_decode(\n",
    "        model,  src, src_mask, max_len=num_tokens + 5, start_symbol=SOS_IDX).flatten()\n",
    "    return tgt_tok.detokenizeSentence([int(i) for i in tgt_tokens])"
   ]
  },
  {
   "cell_type": "markdown",
   "id": "5623630f",
   "metadata": {},
   "source": [
    "### Test"
   ]
  },
  {
   "cell_type": "code",
   "execution_count": 16,
   "id": "8f364164",
   "metadata": {},
   "outputs": [
    {
     "data": {
      "text/plain": [
       "'je vais bien'"
      ]
     },
     "execution_count": 16,
     "metadata": {},
     "output_type": "execute_result"
    }
   ],
   "source": [
    "translate(trainer.model, 'i m ok')"
   ]
  },
  {
   "cell_type": "code",
   "execution_count": null,
   "id": "eccbba68",
   "metadata": {},
   "outputs": [],
   "source": []
  }
 ],
 "metadata": {
  "kernelspec": {
   "display_name": "Python 3 (ipykernel)",
   "language": "python",
   "name": "python3"
  },
  "language_info": {
   "codemirror_mode": {
    "name": "ipython",
    "version": 3
   },
   "file_extension": ".py",
   "mimetype": "text/x-python",
   "name": "python",
   "nbconvert_exporter": "python",
   "pygments_lexer": "ipython3",
   "version": "3.9.13"
  }
 },
 "nbformat": 4,
 "nbformat_minor": 5
}
