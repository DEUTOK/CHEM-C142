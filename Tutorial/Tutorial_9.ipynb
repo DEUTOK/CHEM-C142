{
 "cells": [
  {
   "cell_type": "markdown",
   "id": "d0ddd8b3",
   "metadata": {},
   "source": [
    "# Tutorial 9\n",
    "\n",
    "## Outline\n",
    "\n",
    "1. Graph Neural Netork - Manipulating Graph Data with `torch_geometric`\n",
    "2. Get started with Savio (Berkeley HPC platform)\n",
    "3. (UGrad only) Setting up ANI project"
   ]
  },
  {
   "cell_type": "markdown",
   "id": "e634eac0",
   "metadata": {},
   "source": [
    "## GNN\n",
    "\n",
    "<img src=\"./graph.png\" width=\"450\" />\n",
    "\n",
    "+ Nodes: $\\boldsymbol{v}_i$\n",
    "+ Edges: $\\boldsymbol{e}_{ij}$\n",
    "+ An example of message passing:\n",
    "\n",
    "$$\\boldsymbol{e}_{ij}^{(l+1)}=f_e(\\boldsymbol{e}_{ij}^{(l)},\\boldsymbol{v}_i^{(l)},\\boldsymbol{v}_j^{(l)})$$\n",
    "\n",
    "$$\\boldsymbol{v}_i^{(l+1)}=f_v(\\boldsymbol{v}_i^{(l+1)},\\{\\boldsymbol{e}_{ij}^{(l+1)}\\})$$\n",
    "\n",
    "### Manipulating Graph Data in PyTorch: PyG\n",
    "\n",
    "+ Documentation: https://pytorch-geometric.readthedocs.io/en/latest/\n",
    "+ Installation: https://pytorch-geometric.readthedocs.io/en/latest/install/installation.html\n",
    "\n",
    "    ```conda install pyg -c pyg```\n",
    "\n",
    "### Usage: Take QM9 as an example\n",
    "\n",
    "QM9 is a dataset with 130,000 molecules with 19 regression targets, including dipole moments, atomization enthalpy, etc."
   ]
  },
  {
   "cell_type": "code",
   "execution_count": 1,
   "id": "b511659a",
   "metadata": {},
   "outputs": [],
   "source": [
    "import itertools\n",
    "\n",
    "import torch\n",
    "import torch.nn as nn\n",
    "\n",
    "from torch_geometric.datasets import QM9\n",
    "\n",
    "import numpy as np\n",
    "from sklearn.model_selection import train_test_split"
   ]
  },
  {
   "cell_type": "markdown",
   "id": "d38c0651",
   "metadata": {},
   "source": [
    "The `load_qm9` does the following things:\n",
    "\n",
    "1. Download the QM9 dataset\n",
    "2. Re-build the molecular graph: the original datasets add edges only for atoms connected by a chemical bond, however, here we create an edge between every pair of atoms\n",
    "3. Calculate edge feature: $r^{-1}$\n",
    "4. Extract only atomization enthalpies as the target."
   ]
  },
  {
   "cell_type": "code",
   "execution_count": 2,
   "id": "781abfa3",
   "metadata": {},
   "outputs": [
    {
     "name": "stderr",
     "output_type": "stream",
     "text": [
      "Downloading https://deepchemdata.s3-us-west-1.amazonaws.com/datasets/molnet_publish/qm9.zip\n",
      "Extracting ../../Datasets/QM9/raw/qm9.zip\n",
      "Downloading https://ndownloader.figshare.com/files/3195404\n",
      "Processing...\n",
      "100%|██████████████████████████████████| 133885/133885 [02:26<00:00, 911.54it/s]\n",
      "Done!\n"
     ]
    },
    {
     "data": {
      "text/plain": [
       "QM9(130831)"
      ]
     },
     "execution_count": 2,
     "metadata": {},
     "output_type": "execute_result"
    }
   ],
   "source": [
    "def load_qm9(path=\"./QM9\"):\n",
    "    \n",
    "    def transform(data):\n",
    "        # re-build molecular graph\n",
    "        edge_index = torch.tensor(\n",
    "            list(itertools.permutations(range(data.x.shape[0]), 2)), \n",
    "            dtype=torch.long\n",
    "        ).T\n",
    "        data.edge_index = edge_index\n",
    "        # use 1/r as edge features\n",
    "        edge_feature = 1 / torch.sqrt(\n",
    "            torch.sum(\n",
    "                (data.pos[edge_index[0]] - data.pos[edge_index[1]]) ** 2, \n",
    "                axis=1, keepdim=True\n",
    "            )\n",
    "        )\n",
    "        data.edge_attr = edge_feature\n",
    "        # extract atomization enthalpies\n",
    "        data.y = data.y[:, [-7]]\n",
    "        return data\n",
    "    \n",
    "    qm9 = QM9(path, transform=transform)\n",
    "    return qm9\n",
    "\n",
    "qm9 = load_qm9(\"../../Datasets/QM9\")\n",
    "qm9"
   ]
  },
  {
   "cell_type": "markdown",
   "id": "b7cbb322",
   "metadata": {},
   "source": [
    "The dataset can be sliced."
   ]
  },
  {
   "cell_type": "code",
   "execution_count": 3,
   "id": "d38c7bfc",
   "metadata": {},
   "outputs": [
    {
     "data": {
      "text/plain": [
       "QM9(104664)"
      ]
     },
     "execution_count": 3,
     "metadata": {},
     "output_type": "execute_result"
    }
   ],
   "source": [
    "train_index, test_index = train_test_split(np.arange(len(qm9)), test_size=0.2)\n",
    "train_data = qm9[train_index]\n",
    "test_data = qm9[test_index]\n",
    "train_data"
   ]
  },
  {
   "cell_type": "markdown",
   "id": "79818efb",
   "metadata": {},
   "source": [
    "The dataset can be batched with data loader."
   ]
  },
  {
   "cell_type": "code",
   "execution_count": 9,
   "id": "496b2d47",
   "metadata": {},
   "outputs": [
    {
     "name": "stdout",
     "output_type": "stream",
     "text": [
      "DataBatch(x=[9, 11], edge_index=[2, 32], edge_attr=[32, 1], y=[2, 1], pos=[9, 3], z=[9], smiles=[2], name=[2], idx=[2], batch=[9], ptr=[3])\n"
     ]
    }
   ],
   "source": [
    "from torch_geometric.loader import DataLoader as GraphDataLoader\n",
    "\n",
    "dataloader = GraphDataLoader(qm9, batch_size=2)\n",
    "for data in dataloader:\n",
    "    print(data)\n",
    "    break"
   ]
  },
  {
   "cell_type": "markdown",
   "id": "ee24e1e1",
   "metadata": {},
   "source": [
    "Node features"
   ]
  },
  {
   "cell_type": "code",
   "execution_count": 10,
   "id": "38eb7e67",
   "metadata": {},
   "outputs": [
    {
     "data": {
      "text/plain": [
       "tensor([[0., 1., 0., 0., 0., 6., 0., 0., 0., 0., 4.],\n",
       "        [1., 0., 0., 0., 0., 1., 0., 0., 0., 0., 0.],\n",
       "        [1., 0., 0., 0., 0., 1., 0., 0., 0., 0., 0.],\n",
       "        [1., 0., 0., 0., 0., 1., 0., 0., 0., 0., 0.],\n",
       "        [1., 0., 0., 0., 0., 1., 0., 0., 0., 0., 0.],\n",
       "        [0., 0., 1., 0., 0., 7., 0., 0., 0., 0., 3.],\n",
       "        [1., 0., 0., 0., 0., 1., 0., 0., 0., 0., 0.],\n",
       "        [1., 0., 0., 0., 0., 1., 0., 0., 0., 0., 0.],\n",
       "        [1., 0., 0., 0., 0., 1., 0., 0., 0., 0., 0.]])"
      ]
     },
     "execution_count": 10,
     "metadata": {},
     "output_type": "execute_result"
    }
   ],
   "source": [
    "data.x"
   ]
  },
  {
   "cell_type": "markdown",
   "id": "f7408ae2",
   "metadata": {},
   "source": [
    "Edge features"
   ]
  },
  {
   "cell_type": "code",
   "execution_count": 11,
   "id": "d440af03",
   "metadata": {},
   "outputs": [
    {
     "data": {
      "text/plain": [
       "tensor([[0.9158],\n",
       "        [0.9158],\n",
       "        [0.9158],\n",
       "        [0.9158],\n",
       "        [0.9158],\n",
       "        [0.5608],\n",
       "        [0.5608],\n",
       "        [0.5608],\n",
       "        [0.9158],\n",
       "        [0.5608],\n",
       "        [0.5608],\n",
       "        [0.5608],\n",
       "        [0.9158],\n",
       "        [0.5608],\n",
       "        [0.5608],\n",
       "        [0.5608],\n",
       "        [0.9158],\n",
       "        [0.5608],\n",
       "        [0.5608],\n",
       "        [0.5608],\n",
       "        [0.9831],\n",
       "        [0.9831],\n",
       "        [0.9831],\n",
       "        [0.9831],\n",
       "        [0.6179],\n",
       "        [0.6178],\n",
       "        [0.9831],\n",
       "        [0.6179],\n",
       "        [0.6178],\n",
       "        [0.9831],\n",
       "        [0.6178],\n",
       "        [0.6178]])"
      ]
     },
     "execution_count": 11,
     "metadata": {},
     "output_type": "execute_result"
    }
   ],
   "source": [
    "data.edge_attr"
   ]
  },
  {
   "cell_type": "markdown",
   "id": "db1907a1",
   "metadata": {},
   "source": [
    "Edge index: a tensor with shape `(n_edge, 2)`"
   ]
  },
  {
   "cell_type": "code",
   "execution_count": 12,
   "id": "b3cabf48",
   "metadata": {
    "scrolled": true
   },
   "outputs": [
    {
     "data": {
      "text/plain": [
       "tensor([[0, 0, 0, 0, 1, 1, 1, 1, 2, 2, 2, 2, 3, 3, 3, 3, 4, 4, 4, 4, 5, 5, 5, 6,\n",
       "         6, 6, 7, 7, 7, 8, 8, 8],\n",
       "        [1, 2, 3, 4, 0, 2, 3, 4, 0, 1, 3, 4, 0, 1, 2, 4, 0, 1, 2, 3, 6, 7, 8, 5,\n",
       "         7, 8, 5, 6, 8, 5, 6, 7]])"
      ]
     },
     "execution_count": 12,
     "metadata": {},
     "output_type": "execute_result"
    }
   ],
   "source": [
    "data.edge_index"
   ]
  },
  {
   "cell_type": "markdown",
   "id": "e1b67999",
   "metadata": {},
   "source": [
    "Batch: the node belongs to which graph"
   ]
  },
  {
   "cell_type": "code",
   "execution_count": 13,
   "id": "6bd3b9c1",
   "metadata": {
    "scrolled": true
   },
   "outputs": [
    {
     "data": {
      "text/plain": [
       "tensor([0, 0, 0, 0, 0, 1, 1, 1, 1])"
      ]
     },
     "execution_count": 13,
     "metadata": {},
     "output_type": "execute_result"
    }
   ],
   "source": [
    "data.batch"
   ]
  },
  {
   "cell_type": "markdown",
   "id": "42a7afbf",
   "metadata": {},
   "source": [
    "### Useful function: `scatter`\n",
    "\n",
    "+ Documentation: https://pytorch-scatter.readthedocs.io/en/latest/functions/scatter.html\n",
    "\n",
    "<img src=\"https://raw.githubusercontent.com/rusty1s/pytorch_scatter/master/docs/source/_figures/add.svg\" width=\"350\" />\n",
    "\n",
    "$$\\mathrm{out}_i = \\mathrm{out}_i + \\sum_{j}\\mathrm{src}_j $$\n",
    "\n",
    "where $\\sum_j$  is over $j$ such that $\\mathrm{index}_j=i$."
   ]
  },
  {
   "cell_type": "code",
   "execution_count": null,
   "id": "6e30cde3",
   "metadata": {
    "scrolled": true
   },
   "outputs": [],
   "source": [
    "from torch_geometric.utils import scatter\n",
    "\n",
    "inp = torch.tensor([5, 1, 7, 2, 3, 2, 1, 3], dtype=torch.float)\n",
    "index = torch.tensor([0, 0, 1, 0, 2, 2, 3, 3], dtype=torch.long)\n",
    "out = scatter(inp, index)\n",
    "out"
   ]
  },
  {
   "cell_type": "markdown",
   "id": "214fff75",
   "metadata": {},
   "source": [
    "**Example**: aggregate edge features and concatenate with node features. i.e.\n",
    "\n",
    "$$v'_i=v_i\\oplus\\sum_{j\\in N(i)}e_{ij}$$\n",
    "\n",
    "$N(i)$ means the set of nodes that is directly connected with node $i$"
   ]
  },
  {
   "cell_type": "code",
   "execution_count": null,
   "id": "6cc53fbf",
   "metadata": {
    "scrolled": true
   },
   "outputs": [],
   "source": [
    "edge_aggr = scatter(data.edge_attr, data.edge_index[0])\n",
    "new_node = torch.cat([data.x, edge_aggr], dim=1)\n",
    "new_node"
   ]
  },
  {
   "cell_type": "markdown",
   "id": "6b7412c2",
   "metadata": {},
   "source": [
    "## Savio\n",
    "\n",
    "0. **Important**: always use scratch directory to avoid disk quota issues\n",
    "\n",
    "    ```bash\n",
    "    cd /global/scratch/users/[USER_NAME]\n",
    "    ```\n",
    "    \n",
    "    Replace `[USER_NAME]` with yours\n",
    "\n",
    "\n",
    "1. Link the environment with Jupyter:\n",
    "    \n",
    "   Configure conda first with the following commands:\n",
    "   \n",
    "    ```bash\n",
    "    module load python\n",
    "    conda init bash\n",
    "    source ~/.bashrc\n",
    "    ``` \n",
    "   \n",
    "   Use Eric's environment which has all required dependencies for the ANI project (torch, torchani, numpy):\n",
    "   \n",
    "   ```bash\n",
    "   conda activate /global/scratch/users/ericwangyz/chem242/ani\n",
    "   python -m ipykernel install --user --name=ani\n",
    "   ```\n",
    "   \n",
    "   Then you'll see the kernel in Jupyter Notebook:\n",
    "   \n",
    "   <img src=\"./jupyter_kernel.png\" width=\"800\" />\n",
    "   \n",
    "   **Note**: If you are using Eric's environment, please don't install any other packages to this environment.\n",
    "    \n",
    "  \n",
    "2. For grad students: you can use following the code to set up your own environment:\n",
    "\n",
    "    ```bash\n",
    "    conda create -p /global/scratch/users/[USER_NAME]/[ENV_NAME] python=3.10\n",
    "    conda activate /global/scratch/users/[USER_NAME]/[ENV_NAME]\n",
    "    conda install [PACKAGE_NAMES] # don't forget to install `ipykernel` here\n",
    "    python -m ipykernel install --user --name=[ENV_NAME]\n",
    "    ```"
   ]
  },
  {
   "cell_type": "markdown",
   "id": "70275df3",
   "metadata": {},
   "source": [
    "## [UGrad Only] ANI Project\n",
    "\n",
    "See: bCourses > Midterm_FinalsProject > ugrad_project_files"
   ]
  }
 ],
 "metadata": {
  "kernelspec": {
   "display_name": "Python 3 (ipykernel)",
   "language": "python",
   "name": "python3"
  },
  "language_info": {
   "codemirror_mode": {
    "name": "ipython",
    "version": 3
   },
   "file_extension": ".py",
   "mimetype": "text/x-python",
   "name": "python",
   "nbconvert_exporter": "python",
   "pygments_lexer": "ipython3",
   "version": "3.9.13"
  }
 },
 "nbformat": 4,
 "nbformat_minor": 5
}
