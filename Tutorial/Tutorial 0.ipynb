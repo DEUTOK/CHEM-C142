{
 "cells": [
  {
   "cell_type": "markdown",
   "id": "aaddd90d",
   "metadata": {},
   "source": [
    "# Chem/BioE C142/242 Tutorial 0\n",
    "\n",
    "---\n",
    "\n",
    "# Outline \n",
    "\n",
    "* Introduction & Discussion Format\n",
    "* Installing Python through Anaconda\n",
    "* Introduction to Jupyter Notebook\n",
    "* Introduction to Python basics\n",
    "* Introduction to Numpy & Matplotlib\n",
    "* Introduction to Clean Coding\n",
    "\n",
    "---\n",
    "\n",
    "# 1. Discussion Formats\n",
    "\n",
    "- Time: Tuesday 1:00 - 2:00 pm\n",
    "\n",
    "- Format: In-person at Tan 180\n",
    "\n",
    "- **Attendance: Mandatory**, will be graded based on submission of tutorial notebooks **(DEADLINE: 11:59 PM Wednesday)**\n",
    " \n",
    "- Email: ericwangyz@berkeley.edu (Eric); please include **Chem/BioE C142/242** in the subject line\n"
   ]
  },
  {
   "cell_type": "markdown",
   "id": "8ef63a4f",
   "metadata": {},
   "source": [
    "---"
   ]
  },
  {
   "cell_type": "markdown",
   "id": "523d96ec",
   "metadata": {},
   "source": [
    "# 2. Installing Python through Anaconda\n",
    "\n",
    "## 2.1 Why Anaconda?\n",
    "\n",
    "  - Anaconda simplifies package management and deployment.\n",
    "  - It's especially useful for scientific computing, ensuring you have all the necessary libraries.\n",
    "  \n",
    "## 2.2 Installation Guide\n",
    "\n",
    "  - [Anaconda Installation Guide](https://docs.anaconda.com/anaconda/install/)\n",
    "  - [A useful GitHub page](https://github.com/webartifex/intro-to-python/tree/develop#installation)\n",
    "  \n",
    "## 2.3 Setting up your environment\n",
    "\n",
    "Anaconda manages all packages (even Python) with \"environment\". Environments are seperated, which means different environments can contain different Python, different packages, if properley set up. This will minimize user's efforts to manage the dependencies between packages.\n",
    "\n",
    "Once conda is installed, an environment named `base` is automatically created. You can see the name of the current environment in your terminal (MacOS or Linux) or Anaconda prompt (Windows). For example:\n",
    "\n",
    "```bash\n",
    "(base) [ericwangyz@n0002 ~]\n",
    "```\n",
    "\n",
    "Terminal app in MacOS:\n",
    "\n",
    "<img width=\"150\" src=\"img/terminal.png\" />\n",
    "\n",
    "Anaconda prompt in Windows:\n",
    "\n",
    "<img width=\"300\" src=\"img/anaconda_prompt.png\" />\n",
    "\n",
    "For this class, it is recommended to create a new environment with the following procedure (typing the corresponding command in terminal/prompt) and use this environment to finish all the tutorial/homework assignments.\n",
    "\n",
    "- Create a new enviornment:\n",
    "\n",
    "    ```conda create -n [env_name] python=[version]```\n",
    "\n",
    "    Here, you can specify `env_name` to `c142` and `version` to `3.8`. i.e.\n",
    "\n",
    "    ```conda create -n c142 python=3.8```\n",
    "    \n",
    "\n",
    "- Activate environment\n",
    "\n",
    "    ```conda activate c142```\n",
    "\n",
    "\n",
    "- Install packages\n",
    "\n",
    "    ```conda install numpy pandas scipy matplotlib seaborn scikit-learn ipykernel -c conda-forge -y```\n",
    "    \n",
    "    + **NumPy**: Fundamental package for scientific computing in Python, providing support for large, multi-dimensional arrays and matrices, along with a collection of mathematical functions to operate on them.\n",
    "    \n",
    "    + **Pandas**: Package for data manipulation and analysis in Python\n",
    "    \n",
    "    + **Scipy**: Package for scientific computing based on NumPy, providing high-level functions to perform mathematical operations, such as optimization, integration, eigenvalue problems.\n",
    "    \n",
    "    + **Matplotlib**: Package for data visualization.\n",
    "    \n",
    "    + **Seaborn**: Package based on Matplotlib, offering a high-level interface for drawing attractive and informative statistical graphics.\n",
    "    \n",
    "    + **Scikit-learn**: Package for machine learning\n",
    "    \n",
    "    + **ipykernel**: Package that provides the IPython kernel for Jupyter, allowing Jupyter notebooks to interact with Python code.\n",
    "\n",
    "- Setting up Jupyter notebook\n",
    "\n",
    "    ```python -m ipykernel install --user --name=[env_name]```\n"
   ]
  },
  {
   "cell_type": "markdown",
   "id": "af17bf14",
   "metadata": {},
   "source": [
    "---"
   ]
  },
  {
   "cell_type": "markdown",
   "id": "0760f50d",
   "metadata": {},
   "source": [
    "# 3. Setting up and Using Jupyter Notebook\n",
    "\n",
    "Jupyter Notebook is an open-source web application that allows you to create and share documents containing live code, equations, visualizations, and narrative text. It's particularly popular among data scientists and researchers for its interactive nature.\n",
    "\n",
    "\n",
    "## 3.1. Why Jupyter Notebook?\n",
    "\n",
    "- **Interactive Computing**: Jupyter allows for real-time code execution, making it easier to test and debug code.\n",
    "- **Rich Display System**: You can embed images, videos, LaTeX, and more.\n",
    "- **Integration with Big Data Tools**: Jupyter can be integrated with big data tools like Apache Spark.\n",
    "- **Extensibility**: Jupyter can be extended with various plugins and supports more than 40 programming languages.\n",
    "\n",
    "\n",
    "## 3.2. Launching Jupyter Notebook\n",
    "\n",
    "- **Through Anaconda Navigator**:\n",
    "    - Open Anaconda Navigator.\n",
    "    - Click on the \"Jupyter Notebook\" icon. \n",
    "    \n",
    "<img width=\"800\" src=\"img/anaconda_navigator.png\" />\n",
    "  \n",
    "  \n",
    "- **Using the Command Line**:\n",
    "    - Open your terminal or command prompt.\n",
    "    - Make sure you are at the `base` environment. If not, use the following command: `conda deactivate` or `conda activate base`\n",
    "    - Navigate to your desired directory using `cd your_directory_name`.\n",
    "    - Type `jupyter notebook` and press Enter. For Linux/MacOS, the default web browser should pop up automatically. For Windows, you may need to manually go to http://localhost:8888/tree \n",
    "    \n",
    "\n",
    "## 3.3. Working with Cells\n",
    "\n",
    "You can create a notebook with created environment in the starting page:\n",
    "\n",
    "<img width=\"800\" src=\"img/env_start.png\"/>\n",
    "\n",
    "For an existing notebook file (.ipynb), you can change the kernel in `Kernel > Change kernel`:\n",
    "\n",
    "<img width=\"600\" src=\"img/env_change.png\"/>\n",
    "\n",
    "- **Types of Cells**:\n",
    "  - **Code Cells**: Where you write and execute your Python code.\n",
    "  - **Markdown Cells**: For writing text, explanations, or embedding images and videos. This cell, for instance, is a markdown cell! Here is a quick reference for basic Markdown syntax: https://www.markdownguide.org/cheat-sheet/\n",
    "  \n",
    "- **Basic Operations**:\n",
    "  - **Creating a Cell**: Click on the \"+\" button in the toolbar or press `B` (for below) or `A` (for above) when a cell is selected.\n",
    "  - **Executing a Cell**: Click on the \"Run\" button in the toolbar or press `Shift + Enter`.\n",
    "  - **Changing Cell Type**: Use the dropdown in the toolbar or press `M` for markdown and `Y` for code.\n",
    "  - **Deleting a Cell**: Press `D` twice.\n",
    "\n",
    "\n",
    "## 3.4. Saving and Exporting\n",
    "\n",
    "- **Saving**: Click on the floppy disk icon in the toolbar or press `Ctrl + S`.\n",
    "- **Exporting**: Go to `File > Download as` to export your notebook in various formats like PDF, HTML, or Python (.py)."
   ]
  },
  {
   "cell_type": "markdown",
   "id": "08498df8",
   "metadata": {},
   "source": [
    "\n",
    "\n",
    "## 3.5. Additional Resources\n",
    "\n",
    "- [Jupyter Notebook Beginner Guide](https://jupyter-notebook-beginner-guide.readthedocs.io/en/latest/)"
   ]
  },
  {
   "cell_type": "markdown",
   "id": "6fed2f3b",
   "metadata": {},
   "source": [
    "_________\n",
    "## *For this class, we ask you to download your work as HTML, and then convert the HTML to PDF for homework submission because direct PDF download could cause problems. For step by step instructions, please refer to the following document on bCourse : [Homework/tutorial submission guide.docx]()*\n",
    "_______"
   ]
  },
  {
   "cell_type": "markdown",
   "id": "e93479e9",
   "metadata": {},
   "source": [
    "# 4. Python Basics\n",
    "\n",
    "This section is adapted from the `CS231n` Python tutorial by Justin Johnson (http://cs231n.github.io/python-numpy-tutorial/).\n",
    "\n",
    "Python is a great general-purpose programming language on its own, but with the help of a few popular libraries (numpy, scipy, matplotlib) it becomes a powerful environment for scientific computing.\n",
    "\n",
    "Some of you may have already worked with Python and the related packages before; for the rest of you, this section will serve as a quick crash course both on the Python programming language and on the use of Python for scientific computing.\n",
    "\n",
    "If you have previous knowledge in Matlab, the [\"numpy for Matlab users\" page](https://docs.scipy.org/doc/numpy/user/numpy-for-matlab-users.html) is suggested for reading.\n",
    "\n",
    "In this tutorial, we will cover:\n",
    "\n",
    "* Basic Python: Basic data types (Containers, Lists, Dictionaries, Sets, Tuples), Functions, Classes\n",
    "* Numpy: Arrays, Array indexing, Datatypes, Array math, Broadcasting\n",
    "* Matplotlib: Plotting, Subplots, Setting labels and legends"
   ]
  },
  {
   "cell_type": "markdown",
   "id": "45ed1561",
   "metadata": {},
   "source": [
    "## 4.1 Data Types\n",
    "\n",
    "Python has several built-in data types. Here are some of the most commonly used ones:\n"
   ]
  },
  {
   "cell_type": "markdown",
   "id": "01d87915",
   "metadata": {},
   "source": [
    "### Integers\n",
    "\n",
    "Whole numbers, e.g., `-3, -2, -1, 0, 1, 2, 3...`\n"
   ]
  },
  {
   "cell_type": "code",
   "execution_count": 3,
   "id": "af69df31",
   "metadata": {},
   "outputs": [
    {
     "name": "stdout",
     "output_type": "stream",
     "text": [
      "<class 'int'>\n"
     ]
    }
   ],
   "source": [
    "x = 5\n",
    "print(type(x))"
   ]
  },
  {
   "cell_type": "markdown",
   "id": "c6e3d298",
   "metadata": {},
   "source": [
    "### Floats\n",
    "\n",
    "Decimal numbers, e.g., `-3.5, -2.25, 0.0, 1.1, 2.2...`"
   ]
  },
  {
   "cell_type": "code",
   "execution_count": 4,
   "id": "a5eb97b0",
   "metadata": {},
   "outputs": [
    {
     "name": "stdout",
     "output_type": "stream",
     "text": [
      "<class 'float'>\n"
     ]
    }
   ],
   "source": [
    "y = 3.14\n",
    "print(type(y))"
   ]
  },
  {
   "cell_type": "markdown",
   "id": "3cf128f9",
   "metadata": {},
   "source": [
    "Integers and floats work as you would expect following general mathematical rules:"
   ]
  },
  {
   "cell_type": "code",
   "execution_count": 5,
   "id": "7a918ea2",
   "metadata": {},
   "outputs": [
    {
     "name": "stdout",
     "output_type": "stream",
     "text": [
      "6\n",
      "4\n",
      "10\n",
      "2.5\n",
      "25\n"
     ]
    }
   ],
   "source": [
    "print(x + 1)   # Addition;\n",
    "print(x - 1)   # Subtraction;\n",
    "print(x * 2)   # Multiplication;\n",
    "print(x / 2)   # Division;\n",
    "print(x ** 2)  # Exponentiation;"
   ]
  },
  {
   "cell_type": "code",
   "execution_count": 6,
   "id": "5903f119",
   "metadata": {},
   "outputs": [
    {
     "name": "stdout",
     "output_type": "stream",
     "text": [
      "6\n",
      "12\n"
     ]
    }
   ],
   "source": [
    "x += 1  # Equivalent to x = x + 1\n",
    "print(x)\n",
    "x *= 2  # Equivalent to X = x * 2\n",
    "print(x)"
   ]
  },
  {
   "cell_type": "markdown",
   "id": "3389f8e8",
   "metadata": {},
   "source": [
    "### Booleans\n",
    "\n",
    "Python implements all of the usual operators for Boolean logic, but uses English words rather than symbols (`&&`, `||`, etc.):"
   ]
  },
  {
   "cell_type": "code",
   "execution_count": 7,
   "id": "12c696d7",
   "metadata": {},
   "outputs": [
    {
     "name": "stdout",
     "output_type": "stream",
     "text": [
      "<class 'bool'>\n"
     ]
    }
   ],
   "source": [
    "t, f = True, False\n",
    "print(type(t))"
   ]
  },
  {
   "cell_type": "markdown",
   "id": "c03f492c",
   "metadata": {},
   "source": [
    "Now let's look at the operations:"
   ]
  },
  {
   "cell_type": "code",
   "execution_count": 8,
   "id": "2f401bb2",
   "metadata": {},
   "outputs": [
    {
     "name": "stdout",
     "output_type": "stream",
     "text": [
      "False\n",
      "True\n",
      "False\n",
      "True\n"
     ]
    }
   ],
   "source": [
    "print(t and f) # Logical AND;\n",
    "print(t or f)  # Logical OR;\n",
    "print(not t)   # Logical NOT;\n",
    "print(t != f)  # Logical XOR;"
   ]
  },
  {
   "cell_type": "markdown",
   "id": "4cdb97a1",
   "metadata": {},
   "source": [
    "### Strings\n",
    "\n",
    "Sequence of characters, e.g., `\"Hello, World!\"`"
   ]
  },
  {
   "cell_type": "code",
   "execution_count": 15,
   "id": "f196d1e1",
   "metadata": {},
   "outputs": [
    {
     "name": "stdout",
     "output_type": "stream",
     "text": [
      "Welcome to CHEM142/242\n"
     ]
    }
   ],
   "source": [
    "greeting = 'Welcome to'       # String literals can use single quotes\n",
    "class_code = \"CHEM142/242\"    # or double quotes; it does not matter.\n",
    "print(greeting,class_code)"
   ]
  },
  {
   "cell_type": "markdown",
   "id": "1afc1af7",
   "metadata": {},
   "source": [
    "#### String concatenation"
   ]
  },
  {
   "cell_type": "code",
   "execution_count": 18,
   "id": "1f12cd40",
   "metadata": {
    "scrolled": true
   },
   "outputs": [
    {
     "name": "stdout",
     "output_type": "stream",
     "text": [
      "Welcome to CHEM142/242\n"
     ]
    }
   ],
   "source": [
    "welcome = greeting +' '+ class_code  # use \"+\" operator for string concatenation\n",
    "print(welcome)"
   ]
  },
  {
   "cell_type": "markdown",
   "id": "70a7395a",
   "metadata": {},
   "source": [
    "#### Format strings"
   ]
  },
  {
   "cell_type": "code",
   "execution_count": 19,
   "id": "6d946e4c",
   "metadata": {},
   "outputs": [
    {
     "name": "stdout",
     "output_type": "stream",
     "text": [
      "Welcome to CHEM 147/247\n",
      "Welcome to CHEM 147/247\n"
     ]
    }
   ],
   "source": [
    "welcome2 = '%s %s %d/%d' % (greeting, 'CHEM', 147,247)  # Format string style\n",
    "print(welcome2)\n",
    "\n",
    "welcome3 = \"{} {} {}/{}\".format(greeting, 'CHEM', 147, 247) # use .format function\n",
    "print(welcome3)"
   ]
  },
  {
   "cell_type": "markdown",
   "id": "c517769e",
   "metadata": {},
   "source": [
    "f-string is a preferred way to format strings in Python."
   ]
  },
  {
   "cell_type": "code",
   "execution_count": 20,
   "id": "b06fc995",
   "metadata": {
    "scrolled": true
   },
   "outputs": [
    {
     "name": "stdout",
     "output_type": "stream",
     "text": [
      "Welcome to CHEM142/242\n"
     ]
    }
   ],
   "source": [
    "code1 = 142\n",
    "code2 = 242\n",
    "\n",
    "# f-string begins with 'f' and variables to format in curly braces\n",
    "welcome_fstr = f\"{greeting} CHEM{code1}/{code2}\"\n",
    "print(welcome_fstr)"
   ]
  },
  {
   "cell_type": "markdown",
   "id": "a91727d6",
   "metadata": {},
   "source": [
    "#### Other methods:"
   ]
  },
  {
   "cell_type": "code",
   "execution_count": 21,
   "id": "06ba7951",
   "metadata": {},
   "outputs": [
    {
     "name": "stdout",
     "output_type": "stream",
     "text": [
      "Hello\n",
      "HELLO\n",
      "  hello\n",
      " hello \n",
      "he(ell)(ell)o\n",
      "hello\n",
      "5\n"
     ]
    }
   ],
   "source": [
    "s = \"hello\"\n",
    "print(s.capitalize())  # Capitalize a string\n",
    "print(s.upper())       # Convert a string to uppercase\n",
    "print(s.rjust(7))      # Right-justify a string, padding with spaces\n",
    "print(s.center(7))     # Center a string, padding with spaces\n",
    "print(s.replace('l', '(ell)'))  # Replace all instances of one substring with another\n",
    "print('  hello '.strip())  # Strip leading and trailing whitespace\n",
    "print(len(s))  # Get the length of a string"
   ]
  },
  {
   "cell_type": "markdown",
   "id": "0b511ca4",
   "metadata": {},
   "source": [
    "## 4.2 Containers"
   ]
  },
  {
   "cell_type": "markdown",
   "id": "7f5b32de",
   "metadata": {},
   "source": [
    "### 4.2.1 List\n",
    "\n",
    "Lists are **ordered** collections of items (which can be of any type). They are mutable, meaning their contents can change."
   ]
  },
  {
   "cell_type": "markdown",
   "id": "6b0afc05",
   "metadata": {},
   "source": [
    "#### Creating a List\n"
   ]
  },
  {
   "cell_type": "code",
   "execution_count": 22,
   "id": "99bf4bf4",
   "metadata": {},
   "outputs": [
    {
     "name": "stdout",
     "output_type": "stream",
     "text": [
      "['hydrogen', 'carbon', 'oxygen', 'nitrogen']\n",
      "Length: ['hydrogen', 'carbon', 'oxygen', 'nitrogen']\n"
     ]
    }
   ],
   "source": [
    "# create list with brakets\n",
    "elements = [\"hydrogen\", \"carbon\", \"oxygen\", \"nitrogen\"]\n",
    "print(elements)\n",
    "print(\"Length:\", elements)"
   ]
  },
  {
   "cell_type": "code",
   "execution_count": 23,
   "id": "3fc9e458",
   "metadata": {},
   "outputs": [
    {
     "name": "stdout",
     "output_type": "stream",
     "text": [
      "[0, 1, 2, 3, 4]\n",
      "['a', 'b', 'c', 'd', 'e']\n"
     ]
    }
   ],
   "source": [
    "# create list with list() function\n",
    "numbers = list(range(5))\n",
    "print(numbers)\n",
    "chars = list(\"abcde\")\n",
    "print(chars)"
   ]
  },
  {
   "cell_type": "markdown",
   "id": "88b75334",
   "metadata": {},
   "source": [
    "#### Accessing Elements"
   ]
  },
  {
   "cell_type": "code",
   "execution_count": 24,
   "id": "844b6865",
   "metadata": {},
   "outputs": [
    {
     "name": "stdout",
     "output_type": "stream",
     "text": [
      "hydrogen\n",
      "carbon\n",
      "nitrogen\n",
      "oxygen\n"
     ]
    }
   ],
   "source": [
    "first_element = elements[0]  # Indexing starts from 0\n",
    "print(first_element)\n",
    "\n",
    "second_element = elements[1]\n",
    "print(second_element)\n",
    "\n",
    "last_element = elements[-1] # Also indexing from backward\n",
    "print(last_element)\n",
    "\n",
    "second_last_element = elements[-2]\n",
    "print(second_last_element)"
   ]
  },
  {
   "cell_type": "markdown",
   "id": "38b4aa37",
   "metadata": {},
   "source": [
    "#### Adding Elements"
   ]
  },
  {
   "cell_type": "code",
   "execution_count": 27,
   "id": "afd28d6d",
   "metadata": {},
   "outputs": [
    {
     "name": "stdout",
     "output_type": "stream",
     "text": [
      "['hydrogen', 'carbon', 'oxygen', 'nitrogen', 'sulfur']\n"
     ]
    }
   ],
   "source": [
    "elements.append(\"sulfur\")\n",
    "print(elements)"
   ]
  },
  {
   "cell_type": "markdown",
   "id": "ce5b30a3",
   "metadata": {},
   "source": [
    "#### Pop elements"
   ]
  },
  {
   "cell_type": "code",
   "execution_count": 28,
   "id": "f9cd73f4",
   "metadata": {},
   "outputs": [
    {
     "name": "stdout",
     "output_type": "stream",
     "text": [
      "['hydrogen', 'carbon', 'oxygen', 'nitrogen']\n",
      "sulfur\n"
     ]
    }
   ],
   "source": [
    "last_element = elements.pop()     # Remove and return the last element of the list\n",
    "print(elements)\n",
    "print(last_element)"
   ]
  },
  {
   "cell_type": "markdown",
   "id": "038a05cb",
   "metadata": {},
   "source": [
    "#### Concatenation"
   ]
  },
  {
   "cell_type": "code",
   "execution_count": 29,
   "id": "7924ec5f",
   "metadata": {},
   "outputs": [
    {
     "name": "stdout",
     "output_type": "stream",
     "text": [
      "['hydrogen', 'carbon', 'oxygen', 'nitrogen', 'sodium', 'zinc']\n"
     ]
    }
   ],
   "source": [
    "other_elements = ['sodium', 'zinc']\n",
    "elements = elements + other_elements\n",
    "print(elements)"
   ]
  },
  {
   "cell_type": "markdown",
   "id": "3f65fea3",
   "metadata": {},
   "source": [
    "#### Slicing"
   ]
  },
  {
   "cell_type": "code",
   "execution_count": 30,
   "id": "48cd4a4d",
   "metadata": {},
   "outputs": [
    {
     "name": "stdout",
     "output_type": "stream",
     "text": [
      "['hydrogen', 'carbon', 'oxygen', 'nitrogen', 'sodium', 'zinc']\n",
      "['oxygen', 'nitrogen']\n",
      "['oxygen', 'nitrogen', 'sodium', 'zinc']\n",
      "['hydrogen', 'carbon']\n",
      "['hydrogen', 'carbon', 'oxygen', 'nitrogen', 'sodium', 'zinc']\n",
      "['hydrogen', 'carbon', 'oxygen', 'nitrogen', 'sodium']\n",
      "['hydrogen', 'oxygen', 'sodium']\n",
      "['hydrogen', 'carbon', 'fluorine', 'chlorine', 'sodium', 'zinc']\n"
     ]
    }
   ],
   "source": [
    "print(elements)         # Now printing the list\n",
    "print(elements[2:4])    # Get a slice from index 2 to 4 (exclusive)\n",
    "print(elements[2:])     # Get a slice from index 2 to the end\n",
    "print(elements[:2])     # Get a slice from the start to index 2 (exclusive)\n",
    "print(elements[:])      # Get a slice of the whole list\n",
    "print(elements[:-1])    # Slice indices can be negative\n",
    "print(elements[::2])    # Slice with jumping index\n",
    "elements[2:4] = ['fluorine', 'chlorine'] # Assign a new sublist to a slice\n",
    "print(elements)"
   ]
  },
  {
   "cell_type": "markdown",
   "id": "09ee94b3",
   "metadata": {},
   "source": [
    "### 4.2.2 Tuple\n",
    "\n",
    "Tuples are **ordered non-mutable** collections of objects, which means they cannot be monfied once created."
   ]
  },
  {
   "cell_type": "code",
   "execution_count": 32,
   "id": "55397b97",
   "metadata": {},
   "outputs": [],
   "source": [
    "# Create a tuple with parentheses or bulit-in tuple method\n",
    "tup = (1, 2, 3)\n",
    "tup2 = tuple([1, 2, 3])"
   ]
  },
  {
   "cell_type": "code",
   "execution_count": 33,
   "id": "34db5f06",
   "metadata": {},
   "outputs": [
    {
     "name": "stdout",
     "output_type": "stream",
     "text": [
      "1\n",
      "3\n"
     ]
    }
   ],
   "source": [
    "print(tup[0])     # indexing\n",
    "print(len(tup))   # get the length"
   ]
  },
  {
   "cell_type": "markdown",
   "id": "ea61dfd5",
   "metadata": {},
   "source": [
    "### 4.2.3 Dictionary"
   ]
  },
  {
   "cell_type": "markdown",
   "id": "82b3d7c8",
   "metadata": {},
   "source": [
    "A dictionary stores (key, value) pairs, like bookmark and content of the book. You can use it like this:"
   ]
  },
  {
   "cell_type": "code",
   "execution_count": 34,
   "id": "d5fbee5d",
   "metadata": {
    "scrolled": true
   },
   "outputs": [
    {
     "name": "stdout",
     "output_type": "stream",
     "text": [
      "cute\n",
      "True\n"
     ]
    }
   ],
   "source": [
    "d = {'cat': 'cute', 'dog': 'furry'}  # Create a new dictionary with some data\n",
    "print(d['cat'])       # Get an entry from a dictionary\n",
    "print('cat' in d)     # Check if a dictionary has a given key"
   ]
  },
  {
   "cell_type": "code",
   "execution_count": 41,
   "id": "f830a5bf",
   "metadata": {},
   "outputs": [
    {
     "name": "stdout",
     "output_type": "stream",
     "text": [
      "wet\n",
      "{'cat': 'cute', 'dog': 'furry', 'fish': 'wet'}\n"
     ]
    }
   ],
   "source": [
    "d['fish'] = 'wet'    # Set an entry in a dictionary\n",
    "print(d['fish'])  \n",
    "print(d)"
   ]
  },
  {
   "cell_type": "code",
   "execution_count": 36,
   "id": "007b22bf",
   "metadata": {},
   "outputs": [
    {
     "ename": "KeyError",
     "evalue": "'monkey'",
     "output_type": "error",
     "traceback": [
      "\u001b[0;31m---------------------------------------------------------------------------\u001b[0m",
      "\u001b[0;31mKeyError\u001b[0m                                  Traceback (most recent call last)",
      "Cell \u001b[0;32mIn[36], line 1\u001b[0m\n\u001b[0;32m----> 1\u001b[0m \u001b[38;5;28mprint\u001b[39m(\u001b[43md\u001b[49m\u001b[43m[\u001b[49m\u001b[38;5;124;43m'\u001b[39;49m\u001b[38;5;124;43mmonkey\u001b[39;49m\u001b[38;5;124;43m'\u001b[39;49m\u001b[43m]\u001b[49m)  \u001b[38;5;66;03m# KeyError: 'monkey' not a key of d\u001b[39;00m\n",
      "\u001b[0;31mKeyError\u001b[0m: 'monkey'"
     ]
    }
   ],
   "source": [
    "print(d['monkey'])  # KeyError: 'monkey' not a key of d"
   ]
  },
  {
   "cell_type": "code",
   "execution_count": 37,
   "id": "48454b6c",
   "metadata": {},
   "outputs": [
    {
     "name": "stdout",
     "output_type": "stream",
     "text": [
      "N/A\n",
      "wet\n"
     ]
    }
   ],
   "source": [
    "print(d.get('monkey', 'N/A'))  # Get an element with a default\n",
    "print(d.get('fish', 'N/A'))    # Get an element with a default"
   ]
  },
  {
   "cell_type": "code",
   "execution_count": 42,
   "id": "e6ce5bf6",
   "metadata": {},
   "outputs": [
    {
     "name": "stdout",
     "output_type": "stream",
     "text": [
      "N/A\n",
      "{'cat': 'cute', 'dog': 'furry'}\n"
     ]
    }
   ],
   "source": [
    "del(d['fish'])        # Remove an element from a dictionary\n",
    "print(d.get('fish', 'N/A')) # \"fish\" is no longer a key\n",
    "print(d)"
   ]
  },
  {
   "cell_type": "code",
   "execution_count": 43,
   "id": "37e92d1b",
   "metadata": {},
   "outputs": [
    {
     "name": "stdout",
     "output_type": "stream",
     "text": [
      "{'cat': 'cute', 'dog': 'furry'}\n",
      "Updated: {'cat': 'hungry', 'dog': 'furry', 'monkey': 'naughty'}\n"
     ]
    }
   ],
   "source": [
    "print(d)\n",
    "d.update({\"cat\": \"hungry\", \"monkey\": \"naughty\"}) # update a dictionary\n",
    "print(\"Updated:\", d)"
   ]
  },
  {
   "cell_type": "markdown",
   "id": "69a83e8f",
   "metadata": {},
   "source": [
    "### 4.2.4 Set"
   ]
  },
  {
   "cell_type": "markdown",
   "id": "6dfb6f19",
   "metadata": {},
   "source": [
    "A set is an **unordered** collection of **distinct** elements. As a simple example, consider the following:"
   ]
  },
  {
   "cell_type": "code",
   "execution_count": 44,
   "id": "400e80e8",
   "metadata": {},
   "outputs": [
    {
     "name": "stdout",
     "output_type": "stream",
     "text": [
      "True\n",
      "False\n"
     ]
    }
   ],
   "source": [
    "solvents = {'water', 'ethanol'}\n",
    "print('water' in solvents)   # Check if an element is in a set\n",
    "print('acetone' in solvents)  "
   ]
  },
  {
   "cell_type": "code",
   "execution_count": 45,
   "id": "c01c19ac",
   "metadata": {},
   "outputs": [
    {
     "name": "stdout",
     "output_type": "stream",
     "text": [
      "True\n",
      "3\n"
     ]
    }
   ],
   "source": [
    "solvents.add('DMF')      # Add an element to a set\n",
    "print('DMF' in solvents)\n",
    "print(len(solvents))       # Number of elements in a set;"
   ]
  },
  {
   "cell_type": "code",
   "execution_count": 46,
   "id": "63f8d91a",
   "metadata": {},
   "outputs": [
    {
     "name": "stdout",
     "output_type": "stream",
     "text": [
      "3\n",
      "2\n"
     ]
    }
   ],
   "source": [
    "solvents.add('water')       # Adding an element that is already in the set does nothing\n",
    "print(len(solvents))       \n",
    "solvents.remove('water')    # Remove an element from a set\n",
    "print(len(solvents))"
   ]
  },
  {
   "cell_type": "code",
   "execution_count": 47,
   "id": "257979f9",
   "metadata": {},
   "outputs": [
    {
     "name": "stdout",
     "output_type": "stream",
     "text": [
      "Union set: {'methanol', 'DMF', 'ethanol', 'DMSO'}\n",
      "Intersection set: {'ethanol'}\n"
     ]
    }
   ],
   "source": [
    "# Get union/intersection set with another set\n",
    "solvents2 = {\"methanol\", \"DMSO\", \"ethanol\"}\n",
    "union_solvents = solvents.union(solvents2)\n",
    "intersection_solvents = solvents.intersection(solvents2)\n",
    "print(\"Union set:\", union_solvents)\n",
    "print(\"Intersection set:\", intersection_solvents)"
   ]
  },
  {
   "cell_type": "markdown",
   "id": "8d6d7f4d",
   "metadata": {},
   "source": [
    "## 4.3 Conditional Statements\n",
    "\n",
    "Python supports the usual logical conditions:\n"
   ]
  },
  {
   "cell_type": "markdown",
   "id": "4cc4feae",
   "metadata": {},
   "source": [
    "- Equals: `a == b`\n",
    "- Not Equals: `a != b`\n",
    "- Less than: `a < b`\n",
    "- Less than or equal to: `a <= b`\n",
    "- Greater than: `a > b`\n",
    "- Greater than or equal to: `a >= b`\n"
   ]
  },
  {
   "cell_type": "code",
   "execution_count": 48,
   "id": "a36d634f",
   "metadata": {},
   "outputs": [
    {
     "name": "stdout",
     "output_type": "stream",
     "text": [
      "b is greater than a\n"
     ]
    }
   ],
   "source": [
    "a = 33\n",
    "b = 200\n",
    "\n",
    "if b > a:\n",
    "    print(\"b is greater than a\")"
   ]
  },
  {
   "cell_type": "code",
   "execution_count": 49,
   "id": "2881a58d",
   "metadata": {},
   "outputs": [
    {
     "name": "stdout",
     "output_type": "stream",
     "text": [
      "This is True\n"
     ]
    }
   ],
   "source": [
    "flag = True\n",
    "\n",
    "if flag:\n",
    "    print(\"This is True\")\n",
    "else:\n",
    "    print(\"This is False\")"
   ]
  },
  {
   "cell_type": "code",
   "execution_count": 50,
   "id": "af5f007c",
   "metadata": {},
   "outputs": [
    {
     "name": "stdout",
     "output_type": "stream",
     "text": [
      "A\n"
     ]
    }
   ],
   "source": [
    "grade = 85\n",
    "\n",
    "if grade > 90:\n",
    "    print(\"A+\")\n",
    "elif grade > 80:\n",
    "    print(\"A\")\n",
    "else:\n",
    "    print(\"B\")"
   ]
  },
  {
   "cell_type": "markdown",
   "id": "0d0794e4",
   "metadata": {},
   "source": [
    "## 4.4 Loops & Comprehensions\n",
    "\n",
    "Python has two primitive loop commands:\n"
   ]
  },
  {
   "cell_type": "markdown",
   "id": "0b31903c",
   "metadata": {},
   "source": [
    "### For loops\n"
   ]
  },
  {
   "cell_type": "code",
   "execution_count": 55,
   "id": "00243feb",
   "metadata": {},
   "outputs": [
    {
     "name": "stdout",
     "output_type": "stream",
     "text": [
      "hydrogen\n",
      "carbon\n",
      "fluorine\n",
      "chlorine\n",
      "sodium\n",
      "zinc\n",
      "['hydrogen', 'carbon', 'fluorine', 'chlorine', 'sodium', 'zinc']\n"
     ]
    }
   ],
   "source": [
    "# Looping over iterable objects, such as list, tuple, dict, set or range objects\n",
    "for element in elements:\n",
    "    print(element)\n",
    "print(elements)"
   ]
  },
  {
   "cell_type": "code",
   "execution_count": 56,
   "id": "b4887875",
   "metadata": {},
   "outputs": [
    {
     "name": "stdout",
     "output_type": "stream",
     "text": [
      "DMF\n",
      "ethanol\n"
     ]
    }
   ],
   "source": [
    "# Looping over sets\n",
    "for sol in solvents:\n",
    "    print(sol)"
   ]
  },
  {
   "cell_type": "code",
   "execution_count": 57,
   "id": "1d3bb9f1",
   "metadata": {},
   "outputs": [
    {
     "name": "stdout",
     "output_type": "stream",
     "text": [
      "cat\n",
      "dog\n",
      "monkey\n",
      "====\n",
      "cat\n",
      "dog\n",
      "monkey\n"
     ]
    }
   ],
   "source": [
    "# Looping over dicts is equivalent to looping over the keys in the dictionary\n",
    "for key in d:\n",
    "    print(key)\n",
    "    \n",
    "print('====')\n",
    "\n",
    "for key in d.keys():\n",
    "    print(key)"
   ]
  },
  {
   "cell_type": "code",
   "execution_count": 58,
   "id": "239e977b",
   "metadata": {},
   "outputs": [
    {
     "name": "stdout",
     "output_type": "stream",
     "text": [
      "cat hungry\n",
      "dog furry\n",
      "monkey naughty\n"
     ]
    }
   ],
   "source": [
    "# looping over (key, value) pairs with the .item() method\n",
    "for key, value in d.items():\n",
    "    print(key, value)"
   ]
  },
  {
   "cell_type": "code",
   "execution_count": 59,
   "id": "595e48df",
   "metadata": {},
   "outputs": [
    {
     "name": "stdout",
     "output_type": "stream",
     "text": [
      "0 0\n",
      "1 1\n",
      "2 4\n",
      "3 9\n",
      "4 16\n"
     ]
    }
   ],
   "source": [
    "# Looping over the range object\n",
    "for i in range(5):\n",
    "    print(i, i ** 2)"
   ]
  },
  {
   "cell_type": "code",
   "execution_count": 62,
   "id": "c28a107a",
   "metadata": {},
   "outputs": [
    {
     "name": "stdout",
     "output_type": "stream",
     "text": [
      "0 hydrogen\n",
      "1 carbon\n",
      "2 fluorine\n",
      "3 chlorine\n",
      "4 sodium\n",
      "5 zinc\n"
     ]
    }
   ],
   "source": [
    "# enumerate can get index and value at the same time\n",
    "for index, value in enumerate(elements):\n",
    "    print(index, value)"
   ]
  },
  {
   "cell_type": "markdown",
   "id": "f01cc5e4",
   "metadata": {},
   "source": [
    "### While loops\n"
   ]
  },
  {
   "cell_type": "code",
   "execution_count": 63,
   "id": "d2731cf9",
   "metadata": {},
   "outputs": [
    {
     "name": "stdout",
     "output_type": "stream",
     "text": [
      "1\n",
      "2\n",
      "3\n",
      "4\n",
      "5\n"
     ]
    }
   ],
   "source": [
    "i = 1\n",
    "while i < 6:\n",
    "    print(i)\n",
    "    i += 1"
   ]
  },
  {
   "cell_type": "markdown",
   "id": "08101bd3",
   "metadata": {},
   "source": [
    "### Comprehensions\n",
    "\n",
    "Comprehension is a \"pythonic\" syntax, making it easier to create containers (list, dictionary, set)"
   ]
  },
  {
   "cell_type": "code",
   "execution_count": 64,
   "id": "6a5c20c5",
   "metadata": {},
   "outputs": [
    {
     "name": "stdout",
     "output_type": "stream",
     "text": [
      "[0, 1, 2, 3, 4]\n",
      "[0, 2, 4, 6, 8]\n",
      "{0, 1, 2, 3, 4}\n",
      "{0: 1, 1: 2, 2: 3, 3: 4, 4: 5}\n"
     ]
    }
   ],
   "source": [
    "# list\n",
    "nums = [i for i in range(5)]\n",
    "print(nums)\n",
    "nums2 = [i * 2 for i in range(5)]\n",
    "print(nums2)\n",
    "\n",
    "# set\n",
    "numset = set(i for i in range(5))\n",
    "print(numset)\n",
    "\n",
    "# dictionary\n",
    "numdict = {i: i + 1 for i in range(5)}\n",
    "print(numdict)"
   ]
  },
  {
   "cell_type": "markdown",
   "id": "d6ab6831",
   "metadata": {},
   "source": [
    "## 4.5 Function\n",
    "\n",
    "Functions are blocks of organized and reusable code. They provide better modularity and a higher degree of code reusability."
   ]
  },
  {
   "cell_type": "markdown",
   "id": "786b6580",
   "metadata": {},
   "source": [
    "### Defining a Function\n"
   ]
  },
  {
   "cell_type": "code",
   "execution_count": 66,
   "id": "c4b9dfef",
   "metadata": {},
   "outputs": [],
   "source": [
    "# function with one required argument\n",
    "def greet(name):\n",
    "    return f\"Hello, {name}!\""
   ]
  },
  {
   "cell_type": "markdown",
   "id": "04cfaaba",
   "metadata": {},
   "source": [
    "### Calling a Function\n"
   ]
  },
  {
   "cell_type": "code",
   "execution_count": 67,
   "id": "51a1cb51",
   "metadata": {
    "scrolled": false
   },
   "outputs": [
    {
     "name": "stdout",
     "output_type": "stream",
     "text": [
      "Hello, Alice!\n"
     ]
    }
   ],
   "source": [
    "message = greet(\"Alice\")\n",
    "print(message)"
   ]
  },
  {
   "cell_type": "markdown",
   "id": "7da4504e",
   "metadata": {},
   "source": [
    "### Default Arguments"
   ]
  },
  {
   "cell_type": "code",
   "execution_count": 68,
   "id": "9fc7da52",
   "metadata": {},
   "outputs": [
    {
     "name": "stdout",
     "output_type": "stream",
     "text": [
      "4\n",
      "7\n",
      "8\n"
     ]
    }
   ],
   "source": [
    "# function with two required arguments, one of them has default value\n",
    "def add(a, b=1):\n",
    "    return a + b\n",
    "\n",
    "print(add(3))\n",
    "print(add(3, 4))\n",
    "print(add(3, b=5))"
   ]
  },
  {
   "cell_type": "code",
   "execution_count": 69,
   "id": "5feb4b7e",
   "metadata": {},
   "outputs": [
    {
     "ename": "SyntaxError",
     "evalue": "non-default argument follows default argument (2674280238.py, line 2)",
     "output_type": "error",
     "traceback": [
      "\u001b[0;36m  Cell \u001b[0;32mIn[69], line 2\u001b[0;36m\u001b[0m\n\u001b[0;31m    def add(b=1, a):\u001b[0m\n\u001b[0m            ^\u001b[0m\n\u001b[0;31mSyntaxError\u001b[0m\u001b[0;31m:\u001b[0m non-default argument follows default argument\n"
     ]
    }
   ],
   "source": [
    "# non-default argument must follow default argument\n",
    "def add(b=1, a):\n",
    "    return a + b"
   ]
  },
  {
   "cell_type": "markdown",
   "id": "c1da13e6",
   "metadata": {},
   "source": [
    "### Argument Lists"
   ]
  },
  {
   "cell_type": "code",
   "execution_count": 70,
   "id": "3b6b87d1",
   "metadata": {},
   "outputs": [
    {
     "name": "stdout",
     "output_type": "stream",
     "text": [
      "Hello, Alice\n",
      "Number of arguments: 0\n",
      "Arguments passed in:\n",
      "======\n",
      "Hello, Eric\n",
      "Number of arguments: 3\n",
      "Arguments passed in:\n",
      "#0 Chemistry\n",
      "#1 23\n",
      "#2 [1, 2]\n"
     ]
    }
   ],
   "source": [
    "# arguments wrapped into a tuple if specified with \"*\"\n",
    "def arglist(name, *args):\n",
    "    print(f\"Hello, {name}\")\n",
    "    print(\"Number of arguments:\", len(args))\n",
    "    print(\"Arguments passed in:\")\n",
    "    for i, arg in enumerate(args):\n",
    "        print(f\"#{i} {arg}\")\n",
    "\n",
    "arglist(\"Alice\")\n",
    "print('======')\n",
    "arglist(\"Eric\", \"Chemistry\", 23, [1, 2])"
   ]
  },
  {
   "cell_type": "markdown",
   "id": "b974270e",
   "metadata": {},
   "source": [
    "### Keyword Arguments"
   ]
  },
  {
   "cell_type": "code",
   "execution_count": null,
   "id": "6d84bba9",
   "metadata": {
    "scrolled": true
   },
   "outputs": [],
   "source": [
    "# arguments wrapped into a dict if specified with \"**\"\n",
    "def argkw(name, **kwargs):\n",
    "    print(f\"Hello, {name}!\")\n",
    "    print(\"Keyword arguments:\")\n",
    "    for key, value in kwargs.items():\n",
    "        print(f\"{key}={value}\")\n",
    "\n",
    "argkw(\"Alice\")\n",
    "print(\"======\")\n",
    "argkw(\"Eric\", age=23, major='Chemistry')"
   ]
  },
  {
   "cell_type": "markdown",
   "id": "70a4e63e",
   "metadata": {},
   "source": [
    "## 4.6 Class"
   ]
  },
  {
   "cell_type": "code",
   "execution_count": null,
   "id": "2c7a6225",
   "metadata": {
    "scrolled": true
   },
   "outputs": [],
   "source": [
    "class Greeter:\n",
    "\n",
    "    # Constructor\n",
    "    def __init__(self, name):\n",
    "        self.name = name  # Create an instance variable\n",
    "\n",
    "    # Instance method\n",
    "    def greet(self, loud=False):\n",
    "        if loud:\n",
    "            print('HELLO, %s!' % self.name.upper())\n",
    "        else:\n",
    "            print('Hello, %s' % self.name)\n",
    "\n",
    "\n",
    "g = Greeter('Fred')  # Construct an instance of the Greeter class\n",
    "g.greet()            # Call an instance method\n",
    "g.greet(loud=True)   # Call an instance method"
   ]
  },
  {
   "cell_type": "markdown",
   "id": "bf3f307b",
   "metadata": {},
   "source": [
    "## 4.7 Additional Resources\n",
    "\n",
    "- Python Official Documentation\n",
    "\n",
    "    + [Basics](https://docs.python.org/3/tutorial/introduction.html)\n",
    "    \n",
    "    + [Numeric Types](https://docs.python.org/3/library/stdtypes.html#numeric-types-int-float-complex)\n",
    "    \n",
    "    + [String](https://docs.python.org/3/library/stdtypes.html#string-methods)\n",
    "    \n",
    "    + [List](https://docs.python.org/3/tutorial/datastructures.html#more-on-lists)\n",
    "    \n",
    "    + [Dictionary](https://docs.python.org/3/library/stdtypes.html#dict)\n",
    "    \n",
    "- [W3Schools Python Tutorial](https://www.w3schools.com/python/)"
   ]
  },
  {
   "cell_type": "markdown",
   "id": "620162fc",
   "metadata": {},
   "source": [
    "----"
   ]
  },
  {
   "cell_type": "markdown",
   "id": "1b47d1d8",
   "metadata": {},
   "source": [
    "# 5. Introduction to NumPy and Matplotlib\n",
    "\n",
    "In this section, we'll introduce two fundamental libraries for scientific computing and data visualization in Python: `numpy` and `matplotlib`.\n"
   ]
  },
  {
   "cell_type": "markdown",
   "id": "670e7192",
   "metadata": {},
   "source": [
    "## 5.1. NumPy\n",
    "\n",
    "NumPy (Numerical Python) is the core library for scientific computing in Python. It provides a high-performance multidimensional array object, and tools for working with these arrays. If you are already familiar with MATLAB, you might find this [tutorial](https://docs.scipy.org/doc/numpy/user/numpy-for-matlab-users.html) useful to get started with Numpy."
   ]
  },
  {
   "cell_type": "markdown",
   "id": "d42d1cc9",
   "metadata": {},
   "source": [
    "To use Numpy, we first need to import the `numpy` package:"
   ]
  },
  {
   "cell_type": "code",
   "execution_count": 1,
   "id": "ef82241b",
   "metadata": {},
   "outputs": [],
   "source": [
    "import numpy as np"
   ]
  },
  {
   "cell_type": "markdown",
   "id": "62da931c",
   "metadata": {},
   "source": [
    "### Arrays"
   ]
  },
  {
   "cell_type": "markdown",
   "id": "54f0fbb9",
   "metadata": {},
   "source": [
    "A numpy array is a grid of values, all of the same type, and is indexed by a tuple of nonnegative integers. The number of dimensions is the rank of the array; the shape of an array is a tuple of integers giving the size of the array along each dimension.\n",
    "\n",
    "We can initialize numpy arrays from nested Python lists, and access elements using square brackets:"
   ]
  },
  {
   "cell_type": "code",
   "execution_count": 2,
   "id": "b52e9af1",
   "metadata": {},
   "outputs": [
    {
     "name": "stdout",
     "output_type": "stream",
     "text": [
      "<class 'numpy.ndarray'> (3,) 1 2 3\n",
      "[5 2 3]\n"
     ]
    }
   ],
   "source": [
    "a = np.array([1, 2, 3])  # Create a rank 1 array\n",
    "print(type(a), a.shape, a[0], a[1], a[2])\n",
    "a[0] = 5                 # Change an element of the array\n",
    "print(a)              "
   ]
  },
  {
   "cell_type": "code",
   "execution_count": 3,
   "id": "fa63c91a",
   "metadata": {},
   "outputs": [
    {
     "name": "stdout",
     "output_type": "stream",
     "text": [
      "[[1 2 3]\n",
      " [4 5 6]]\n",
      "Shape: (2, 3)\n",
      "1 2 4\n"
     ]
    }
   ],
   "source": [
    "b = np.array([\n",
    "    [1, 2, 3],\n",
    "    [4, 5, 6]\n",
    "])   # Create a rank 2 array\n",
    "print(b)\n",
    "print(\"Shape:\", b.shape)                   \n",
    "print(b[0, 0], b[0, 1], b[1, 0])"
   ]
  },
  {
   "cell_type": "markdown",
   "id": "089c5139",
   "metadata": {},
   "source": [
    "Numpy also provides many functions to create arrays:"
   ]
  },
  {
   "cell_type": "code",
   "execution_count": 75,
   "id": "d0cddadf",
   "metadata": {},
   "outputs": [
    {
     "name": "stdout",
     "output_type": "stream",
     "text": [
      "[[0. 0.]\n",
      " [0. 0.]]\n"
     ]
    }
   ],
   "source": [
    "a = np.zeros((2, 2))  # Create an array of all zeros\n",
    "print(a)"
   ]
  },
  {
   "cell_type": "code",
   "execution_count": 76,
   "id": "c5297e73",
   "metadata": {},
   "outputs": [
    {
     "name": "stdout",
     "output_type": "stream",
     "text": [
      "[[1. 1.]]\n"
     ]
    }
   ],
   "source": [
    "b = np.ones((1, 2))   # Create an array of all ones\n",
    "print(b)"
   ]
  },
  {
   "cell_type": "code",
   "execution_count": 4,
   "id": "62e7d060",
   "metadata": {},
   "outputs": [
    {
     "name": "stdout",
     "output_type": "stream",
     "text": [
      "[[7 7]\n",
      " [7 7]]\n"
     ]
    }
   ],
   "source": [
    "c = np.full((2, 2), 7) # Create a constant array\n",
    "print(c)"
   ]
  },
  {
   "cell_type": "code",
   "execution_count": 5,
   "id": "09153118",
   "metadata": {},
   "outputs": [
    {
     "name": "stdout",
     "output_type": "stream",
     "text": [
      "[[1. 0.]\n",
      " [0. 1.]]\n"
     ]
    }
   ],
   "source": [
    "d = np.eye(2)        # Create a 2x2 identity matrix\n",
    "print(d)"
   ]
  },
  {
   "cell_type": "code",
   "execution_count": 22,
   "id": "431b4e59",
   "metadata": {},
   "outputs": [
    {
     "name": "stdout",
     "output_type": "stream",
     "text": [
      "[[0.16050528 0.16573507]\n",
      " [0.77841917 0.96852182]]\n"
     ]
    }
   ],
   "source": [
    "e = np.random.random((2,2)) # Create an array filled with random values\n",
    "print(e)"
   ]
  },
  {
   "cell_type": "markdown",
   "id": "ef406ab2",
   "metadata": {},
   "source": [
    "To get different types of random distributions, check the [documentation](https://docs.scipy.org/doc/numpy/reference/routines.random.html) here."
   ]
  },
  {
   "cell_type": "code",
   "execution_count": 29,
   "id": "ff263653",
   "metadata": {},
   "outputs": [
    {
     "name": "stdout",
     "output_type": "stream",
     "text": [
      "[ 0.  1.  2.  3.  4.  5.  6.  7.  8.  9. 10.]\n"
     ]
    }
   ],
   "source": [
    "f = np.linspace(0, 10, 11) # evenly spaced numbers over a specified interval.\n",
    "print(f)\n",
    "type(f)\n",
    "\n",
    "h = [1,2,3]"
   ]
  },
  {
   "cell_type": "code",
   "execution_count": 32,
   "id": "6b2e975c",
   "metadata": {},
   "outputs": [
    {
     "name": "stdout",
     "output_type": "stream",
     "text": [
      "[1 2 3 4 5 6 7 8 9]\n"
     ]
    },
    {
     "data": {
      "text/plain": [
       "array([1, 2])"
      ]
     },
     "execution_count": 32,
     "metadata": {},
     "output_type": "execute_result"
    }
   ],
   "source": [
    "g = np.arange(1, 10) # evenly spaced integers within a given interval.\n",
    "print(g)\n",
    "g[:2]"
   ]
  },
  {
   "cell_type": "markdown",
   "id": "e71377e0",
   "metadata": {},
   "source": [
    "### Array indexing & slicing"
   ]
  },
  {
   "cell_type": "markdown",
   "id": "fc5f5140",
   "metadata": {},
   "source": [
    "#### Slicing\n",
    "\n",
    "Similar to Python lists, numpy arrays can be sliced. \n",
    "\n",
    "Since arrays may be multidimensional, you must specify a slice for each dimension of the array:"
   ]
  },
  {
   "cell_type": "code",
   "execution_count": 31,
   "id": "e6b67bf6",
   "metadata": {},
   "outputs": [
    {
     "name": "stdout",
     "output_type": "stream",
     "text": [
      "[[2 3]\n",
      " [6 7]]\n"
     ]
    }
   ],
   "source": [
    "a = np.array([\n",
    "    [1, 2, 3, 4], \n",
    "    [5, 6, 7, 8], \n",
    "    [9, 10, 11, 12]\n",
    "])\n",
    "\n",
    "# Use slicing to pull out the subarray consisting of the first 2 rows\n",
    "# and columns 1 and 2\n",
    "b = a[:2, 1:3]\n",
    "print(b)"
   ]
  },
  {
   "cell_type": "markdown",
   "id": "519675c3",
   "metadata": {},
   "source": [
    "A slice of an array is a view into the same data, so modifying it will modify the original array."
   ]
  },
  {
   "cell_type": "code",
   "execution_count": null,
   "id": "f9b6f95f",
   "metadata": {},
   "outputs": [],
   "source": [
    "print(a[0, 1])  \n",
    "b[0, 0] = 77    # b[0, 0] is the same piece of data as a[0, 1]\n",
    "print(a[0, 1]) "
   ]
  },
  {
   "cell_type": "markdown",
   "id": "a50dc6c5",
   "metadata": {},
   "source": [
    "You can also mix integer indexing with slice indexing. However, doing so will yield an array of lower rank than the original array. Note that this is quite different from the way that MATLAB handles array slicing:"
   ]
  },
  {
   "cell_type": "code",
   "execution_count": 34,
   "id": "efda9966",
   "metadata": {},
   "outputs": [],
   "source": [
    "# Create the following rank 2 array with shape (3, 4)\n",
    "a = np.array([\n",
    "    [1, 2, 3, 4], \n",
    "    [5, 6, 7, 8], \n",
    "    [9, 10, 11, 12]\n",
    "])"
   ]
  },
  {
   "cell_type": "markdown",
   "id": "0d89e580",
   "metadata": {},
   "source": [
    "Two ways of accessing the data in the middle row of the array.\n",
    "\n",
    "Mixing integer indexing with slices yields an array of lower rank,\n",
    "while using only slices yields an array of the same rank as the\n",
    "original array:"
   ]
  },
  {
   "cell_type": "code",
   "execution_count": 35,
   "id": "6d3a0525",
   "metadata": {},
   "outputs": [
    {
     "name": "stdout",
     "output_type": "stream",
     "text": [
      "[5 6 7 8] (4,)\n",
      "[[5 6 7 8]] (1, 4)\n",
      "[[5 6 7 8]] (1, 4)\n"
     ]
    }
   ],
   "source": [
    "row_r1 = a[1, :]    # Rank 1 view of the second row of a  \n",
    "row_r2 = a[1:2, :]  # Rank 2 view of the second row of a\n",
    "row_r3 = a[[1], :]  # Rank 2 view of the second row of a\n",
    "print(row_r1, row_r1.shape) \n",
    "print(row_r2, row_r2.shape)\n",
    "print(row_r3, row_r3.shape)"
   ]
  },
  {
   "cell_type": "markdown",
   "id": "599b9e44",
   "metadata": {},
   "source": [
    "#### Integer array indexing \n",
    "\n",
    "When you index into numpy arrays using slicing, the resulting array view will always be a subarray of the original array. In contrast, integer array indexing allows you to construct arbitrary arrays using the data from another array. Here is an example:"
   ]
  },
  {
   "cell_type": "code",
   "execution_count": 36,
   "id": "a0f10722",
   "metadata": {},
   "outputs": [
    {
     "name": "stdout",
     "output_type": "stream",
     "text": [
      "[1 4 5]\n",
      "[1 4 5]\n"
     ]
    }
   ],
   "source": [
    "a = np.array([[1, 2], [3, 4], [5, 6]])\n",
    "\n",
    "# An example of integer array indexing.\n",
    "# The returned array will have shape (3,) and \n",
    "print(a[[0, 1, 2], [0, 1, 0]])\n",
    "\n",
    "# The above example of integer array indexing is equivalent to this:\n",
    "print(np.array([a[0, 0], a[1, 1], a[2, 0]]))"
   ]
  },
  {
   "cell_type": "markdown",
   "id": "1b0e22f7",
   "metadata": {},
   "source": [
    "#### Boolean array indexing\n",
    "\n",
    "Boolean array indexing lets you pick out arbitrary elements of an array. Frequently this type of indexing is used to select the elements of an array that satisfy some condition. Sometimes this operation is also called \"masking\". Here is an example:"
   ]
  },
  {
   "cell_type": "code",
   "execution_count": 37,
   "id": "fbb65df6",
   "metadata": {},
   "outputs": [
    {
     "name": "stdout",
     "output_type": "stream",
     "text": [
      "[[False False]\n",
      " [ True  True]\n",
      " [ True  True]]\n"
     ]
    }
   ],
   "source": [
    "a = np.array([[1, 2], [3, 4], [5, 6]])\n",
    "\n",
    "bool_idx = (a > 2)  # Find the elements of a that are bigger than 2;\n",
    "                    # this returns a numpy array of Booleans of the same\n",
    "                    # shape as a, where each slot of bool_idx tells\n",
    "                    # whether that element of a is > 2.\n",
    "\n",
    "print(bool_idx)"
   ]
  },
  {
   "cell_type": "code",
   "execution_count": 38,
   "id": "a5b9fbc4",
   "metadata": {},
   "outputs": [
    {
     "name": "stdout",
     "output_type": "stream",
     "text": [
      "[3 4 5 6]\n",
      "[3 4 5 6]\n"
     ]
    }
   ],
   "source": [
    "# We use boolean array indexing to construct a rank 1 array\n",
    "# consisting of the elements of a corresponding to the True values\n",
    "# of bool_idx\n",
    "print(a[bool_idx])\n",
    "\n",
    "# We can do all of the above in a single concise statement:\n",
    "print(a[a > 2])"
   ]
  },
  {
   "cell_type": "markdown",
   "id": "3cc67b35",
   "metadata": {},
   "source": [
    "Boolean indexing can also be used with slicing:"
   ]
  },
  {
   "cell_type": "code",
   "execution_count": 39,
   "id": "c29cbd57",
   "metadata": {},
   "outputs": [
    {
     "name": "stdout",
     "output_type": "stream",
     "text": [
      "[[1 2]\n",
      " [5 6]]\n",
      "[[1 2]\n",
      " [5 6]]\n"
     ]
    }
   ],
   "source": [
    "mask = [True, False, True]\n",
    "print(a[mask]) # This is equivalent to a[mask, :] (the second dimension is all selected)\n",
    "print(a[mask, :])"
   ]
  },
  {
   "cell_type": "markdown",
   "id": "ba75fba9",
   "metadata": {},
   "source": [
    "### Datatypes"
   ]
  },
  {
   "cell_type": "markdown",
   "id": "7338dc62",
   "metadata": {},
   "source": [
    "Every numpy array is a grid of elements of the same type. Numpy provides a large set of numeric datatypes that you can use to construct arrays. Numpy tries to guess a datatype when you create an array, but functions that construct arrays usually also include an optional argument to explicitly specify the datatype. Here is an example:"
   ]
  },
  {
   "cell_type": "code",
   "execution_count": 40,
   "id": "e7bad13a",
   "metadata": {},
   "outputs": [
    {
     "name": "stdout",
     "output_type": "stream",
     "text": [
      "int64 float64 int64\n"
     ]
    }
   ],
   "source": [
    "x = np.array([1, 2])  # Let numpy choose the datatype\n",
    "y = np.array([1.0, 2.0])  # Let numpy choose the datatype\n",
    "z = np.array([1, 2], dtype=np.int64)  # Force a particular datatype\n",
    "\n",
    "print(x.dtype, y.dtype, z.dtype)"
   ]
  },
  {
   "cell_type": "markdown",
   "id": "dd878f31",
   "metadata": {},
   "source": [
    "### Array math"
   ]
  },
  {
   "cell_type": "markdown",
   "id": "cb228e64",
   "metadata": {},
   "source": [
    "#### Basics"
   ]
  },
  {
   "cell_type": "code",
   "execution_count": 41,
   "id": "a17a8312",
   "metadata": {},
   "outputs": [
    {
     "name": "stdout",
     "output_type": "stream",
     "text": [
      "[[ 6.  8.]\n",
      " [10. 12.]]\n",
      "[[ 6.  8.]\n",
      " [10. 12.]]\n"
     ]
    }
   ],
   "source": [
    "x = np.array([[1, 2], [3, 4]], dtype=np.float64)\n",
    "y = np.array([[5, 6], [7, 8]], dtype=np.float64)\n",
    "\n",
    "# Elementwise sum\n",
    "print(x + y)\n",
    "print(np.add(x, y))"
   ]
  },
  {
   "cell_type": "code",
   "execution_count": null,
   "id": "908cc96a",
   "metadata": {},
   "outputs": [],
   "source": [
    "# Elementwise difference\n",
    "print(x - y)\n",
    "print(np.subtract(x, y))"
   ]
  },
  {
   "cell_type": "code",
   "execution_count": null,
   "id": "52271043",
   "metadata": {},
   "outputs": [],
   "source": [
    "# Elementwise product\n",
    "print(x * y)\n",
    "print(np.multiply(x, y))"
   ]
  },
  {
   "cell_type": "code",
   "execution_count": null,
   "id": "0e579aa1",
   "metadata": {},
   "outputs": [],
   "source": [
    "# Elementwise division\n",
    "print(x / y)\n",
    "print(np.divide(x, y))"
   ]
  },
  {
   "cell_type": "code",
   "execution_count": null,
   "id": "4585abd6",
   "metadata": {},
   "outputs": [],
   "source": [
    "# Elementwise square root\n",
    "print(np.sqrt(x))"
   ]
  },
  {
   "cell_type": "code",
   "execution_count": null,
   "id": "19450d2e",
   "metadata": {},
   "outputs": [],
   "source": [
    "# Elementwise exponential\n",
    "print(np.exp(x))"
   ]
  },
  {
   "cell_type": "code",
   "execution_count": null,
   "id": "482189ed",
   "metadata": {},
   "outputs": [],
   "source": [
    "# Elementwise power\n",
    "print(np.power(x, 2))\n",
    "print(x ** 2)"
   ]
  },
  {
   "cell_type": "code",
   "execution_count": null,
   "id": "8a40cbc2",
   "metadata": {},
   "outputs": [],
   "source": [
    "# Elementwise natural logarithm\n",
    "print(np.log(x))"
   ]
  },
  {
   "cell_type": "markdown",
   "id": "93896ce5",
   "metadata": {},
   "source": [
    "#### Matrix/vector product"
   ]
  },
  {
   "cell_type": "code",
   "execution_count": 42,
   "id": "994b64a3",
   "metadata": {},
   "outputs": [
    {
     "name": "stdout",
     "output_type": "stream",
     "text": [
      "219\n",
      "219\n"
     ]
    }
   ],
   "source": [
    "x = np.array([[1,2],[3,4]])\n",
    "y = np.array([[5,6],[7,8]])\n",
    "\n",
    "v = np.array([9,10])\n",
    "w = np.array([11, 12])\n",
    "\n",
    "# Inner product of vectors; both produce 219\n",
    "print(v.dot(w))\n",
    "print(np.dot(v, w))"
   ]
  },
  {
   "cell_type": "code",
   "execution_count": 43,
   "id": "22362cdb",
   "metadata": {},
   "outputs": [
    {
     "name": "stdout",
     "output_type": "stream",
     "text": [
      "[29 67]\n",
      "[29 67]\n"
     ]
    }
   ],
   "source": [
    "# Matrix / vector product; both produce the rank 1 array [29 67]\n",
    "print(x.dot(v))\n",
    "print(np.dot(x, v))"
   ]
  },
  {
   "cell_type": "code",
   "execution_count": null,
   "id": "9e54b29c",
   "metadata": {},
   "outputs": [],
   "source": [
    "# Matrix / matrix product; both produce the rank 2 array\n",
    "# [[19 22]\n",
    "#  [43 50]]\n",
    "print(x.dot(y))\n",
    "print(np.dot(x, y))"
   ]
  },
  {
   "cell_type": "markdown",
   "id": "1dd595ce",
   "metadata": {},
   "source": [
    "#### Other useful functions & operations"
   ]
  },
  {
   "cell_type": "code",
   "execution_count": 44,
   "id": "d4a915cd",
   "metadata": {},
   "outputs": [
    {
     "name": "stdout",
     "output_type": "stream",
     "text": [
      "45\n",
      "[12 15 18]\n",
      "[ 6 15 24]\n"
     ]
    }
   ],
   "source": [
    "x = np.array([\n",
    "    [1, 2, 3], \n",
    "    [4, 5, 6],\n",
    "    [7, 8, 9]\n",
    "])\n",
    "\n",
    "print(np.sum(x))  # Compute sum of all elements\n",
    "print(np.sum(x, axis=0))  # Compute sum of each column\n",
    "print(np.sum(x, axis=1))  # Compute sum of each row"
   ]
  },
  {
   "cell_type": "code",
   "execution_count": 45,
   "id": "fa74cdb5",
   "metadata": {},
   "outputs": [
    {
     "name": "stdout",
     "output_type": "stream",
     "text": [
      "5.0\n",
      "[4. 5. 6.]\n",
      "[2. 5. 8.]\n"
     ]
    }
   ],
   "source": [
    "# Mean (averages)\n",
    "print(np.mean(x))\n",
    "print(np.mean(x, axis=0))\n",
    "print(np.mean(x, axis=1))"
   ]
  },
  {
   "cell_type": "code",
   "execution_count": 46,
   "id": "de3acde2",
   "metadata": {},
   "outputs": [
    {
     "name": "stdout",
     "output_type": "stream",
     "text": [
      "5.0\n",
      "[4. 5. 6.]\n",
      "[2. 5. 8.]\n"
     ]
    }
   ],
   "source": [
    "# Median\n",
    "print(np.median(x))\n",
    "print(np.median(x, axis=0))\n",
    "print(np.median(x, axis=1))"
   ]
  },
  {
   "cell_type": "code",
   "execution_count": 47,
   "id": "2e310d0a",
   "metadata": {},
   "outputs": [
    {
     "name": "stdout",
     "output_type": "stream",
     "text": [
      "[[1 2]\n",
      " [3 4]\n",
      " [5 6]]\n",
      "Transposed:\n",
      "[[1 3 5]\n",
      " [2 4 6]]\n"
     ]
    }
   ],
   "source": [
    "# Transpose\n",
    "x = np.array([[1, 2], [3, 4], [5, 6]])\n",
    "print(x)\n",
    "print('Transposed:')\n",
    "print(x.T)"
   ]
  },
  {
   "cell_type": "code",
   "execution_count": 48,
   "id": "8580812f",
   "metadata": {},
   "outputs": [
    {
     "name": "stdout",
     "output_type": "stream",
     "text": [
      "[1 2 3 4 5 6]\n",
      "[[1 2 3]\n",
      " [4 5 6]]\n",
      "[[1 2]\n",
      " [3 4]\n",
      " [5 6]]\n"
     ]
    }
   ],
   "source": [
    "# Reshape\n",
    "x = np.arange(1, 7)\n",
    "print(x)\n",
    "print(x.reshape(2, 3))\n",
    "print(x.reshape(3, 2))"
   ]
  },
  {
   "cell_type": "code",
   "execution_count": 49,
   "id": "8e700618",
   "metadata": {},
   "outputs": [
    {
     "name": "stdout",
     "output_type": "stream",
     "text": [
      "[[1 2]\n",
      " [3 4]\n",
      " [5 6]]\n"
     ]
    }
   ],
   "source": [
    "# You can specify one dim to -1 and Numpy will calculate the required shape in that dim\n",
    "print(x.reshape(-1, 2))"
   ]
  },
  {
   "cell_type": "markdown",
   "id": "59c80cfa",
   "metadata": {},
   "source": [
    "### Broadcasting"
   ]
  },
  {
   "cell_type": "markdown",
   "id": "f8236ca9",
   "metadata": {},
   "source": [
    "Broadcasting is a powerful mechanism that allows numpy to work with arrays of different shapes when performing arithmetic operations. Frequently we have a smaller array and a larger array, and we want to use the smaller array multiple times to perform some operation on the larger array.\n",
    "\n",
    "For example, suppose that we want to add a constant vector to each row of a matrix. We could do it like this:"
   ]
  },
  {
   "cell_type": "code",
   "execution_count": 52,
   "id": "32387632",
   "metadata": {},
   "outputs": [
    {
     "name": "stdout",
     "output_type": "stream",
     "text": [
      "[[ 1  2  3]\n",
      " [ 4  5  6]\n",
      " [ 7  8  9]\n",
      " [10 11 12]]\n",
      "[1 0 1]\n",
      "[[ 2  2  4]\n",
      " [ 5  5  7]\n",
      " [ 8  8 10]\n",
      " [11 11 13]]\n"
     ]
    }
   ],
   "source": [
    "# We will add the vector v to each row of the matrix x,\n",
    "# storing the result in the matrix y\n",
    "x = np.array([[1, 2, 3], [4, 5, 6], [7, 8, 9], [10, 11, 12]])\n",
    "v = np.array([1, 0, 1])\n",
    "y = np.empty_like(x)   # Create an empty matrix with the same shape as x\n",
    "\n",
    "# Add the vector v to each row of the matrix x with an explicit loop\n",
    "for i in range(4):\n",
    "    y[i, :] = x[i, :] + v\n",
    "print(x)\n",
    "print(v)\n",
    "print(y)"
   ]
  },
  {
   "cell_type": "markdown",
   "id": "052e8671",
   "metadata": {},
   "source": [
    "This works; however when the matrix `x` is very large, computing an explicit loop in Python could be slow. \n",
    "\n",
    "Numpy broadcasting allows us to perform this computation with broadcasting. This is fast."
   ]
  },
  {
   "cell_type": "code",
   "execution_count": 51,
   "id": "6314cfad",
   "metadata": {
    "scrolled": true
   },
   "outputs": [
    {
     "name": "stdout",
     "output_type": "stream",
     "text": [
      "[[ 2  2  4]\n",
      " [ 5  5  7]\n",
      " [ 8  8 10]\n",
      " [11 11 13]]\n"
     ]
    }
   ],
   "source": [
    "y = x + v  # Add v to each row of x using broadcasting\n",
    "print(y)"
   ]
  },
  {
   "cell_type": "markdown",
   "id": "b5ef10a8",
   "metadata": {},
   "source": [
    "The line `y = x + v` works even though `x` has shape `(4, 3)` and `v` has shape `(3,)` due to broadcasting; this line works as if v actually had shape `(4, 3)`, where each row was a copy of `v`, and the sum was performed elementwise.\n",
    "\n",
    "Broadcasting two arrays together follows these rules:\n",
    "\n",
    "1. If the arrays do not have the same rank, prepend the shape of the lower rank array with 1s until both shapes have the same length.\n",
    "2. The two arrays are said to be compatible in a dimension if they have the same size in the dimension, or if one of the arrays has size 1 in that dimension.\n",
    "3. The arrays can be broadcast together if they are compatible in all dimensions.\n",
    "4. After broadcasting, each array behaves as if it had shape equal to the elementwise maximum of shapes of the two input arrays.\n",
    "5. In any dimension where one array had size 1 and the other array had size greater than 1, the first array behaves as if it were copied along that dimension\n",
    "\n",
    "If this explanation does not make sense, try reading the explanation from the [documentation](http://docs.scipy.org/doc/numpy/user/basics.broadcasting.html).\n",
    "\n",
    "**Functions that support broadcasting are known as universal functions. You can find the list of all universal functions in the [documentation](http://docs.scipy.org/doc/numpy/reference/ufuncs.html#available-ufuncs).**"
   ]
  },
  {
   "cell_type": "markdown",
   "id": "701610ea",
   "metadata": {},
   "source": [
    "## 5.2. Matplotlib\n",
    "\n",
    "Matplotlib is a plotting library for Python. It provides an object-oriented API for embedding plots into applications that use general-purpose GUI toolkits, such as Tkinter, wxPython, Qt, or GTK. In this tutorial, we'll focus on its basic plotting capabilities.\n"
   ]
  },
  {
   "cell_type": "code",
   "execution_count": 53,
   "id": "32a46051",
   "metadata": {},
   "outputs": [],
   "source": [
    "import matplotlib.pyplot as plt"
   ]
  },
  {
   "cell_type": "markdown",
   "id": "c099fd20",
   "metadata": {},
   "source": [
    "By running this special iPython command, we will be displaying plots inline:"
   ]
  },
  {
   "cell_type": "code",
   "execution_count": 54,
   "id": "e1b2800c",
   "metadata": {},
   "outputs": [],
   "source": [
    "%matplotlib inline"
   ]
  },
  {
   "cell_type": "markdown",
   "id": "59c224bc",
   "metadata": {},
   "source": [
    "### Basic Plotting with Matplotlib"
   ]
  },
  {
   "cell_type": "code",
   "execution_count": 55,
   "id": "8dd588dd",
   "metadata": {},
   "outputs": [
    {
     "data": {
      "image/png": "[encoded data removed]",
      "text/plain": [
       "<Figure size 1000x600 with 1 Axes>"
      ]
     },
     "metadata": {},
     "output_type": "display_data"
    }
   ],
   "source": [
    "# Generating data\n",
    "x = np.linspace(0, 10, 100)\n",
    "y1 = np.sin(x)\n",
    "y2 = np.cos(x)\n",
    "\n",
    "# Creating the plot\n",
    "plt.figure(figsize=(10,6))\n",
    "plt.plot(x, y1, '-.', label=\"Y = sin(X)\")\n",
    "plt.plot(x, y2, '--', label=\"Y = cos(X)\")\n",
    "plt.title(\"Sine and Cosine Waves\")\n",
    "plt.xlabel(\"X values\")\n",
    "plt.ylabel(\"Y values\")\n",
    "plt.legend()\n",
    "plt.grid(True)\n",
    "plt.show()"
   ]
  },
  {
   "cell_type": "markdown",
   "id": "715a862c",
   "metadata": {},
   "source": [
    "Scatter plot:"
   ]
  },
  {
   "cell_type": "code",
   "execution_count": 56,
   "id": "21301519",
   "metadata": {},
   "outputs": [
    {
     "data": {
      "text/plain": [
       "<matplotlib.collections.PathCollection at 0x7f88e44b87c0>"
      ]
     },
     "execution_count": 56,
     "metadata": {},
     "output_type": "execute_result"
    },
    {
     "data": {
      "image/png": "[encoded data removed]",
      "text/plain": [
       "<Figure size 640x480 with 1 Axes>"
      ]
     },
     "metadata": {},
     "output_type": "display_data"
    }
   ],
   "source": [
    "x = np.linspace(0, 10, 100)\n",
    "y = x * 2 + np.random.randn(100)\n",
    "plt.scatter(x, y)"
   ]
  },
  {
   "cell_type": "markdown",
   "id": "d391e16e",
   "metadata": {},
   "source": [
    "You can plot 2d matrices as bitmap using the imshow function:"
   ]
  },
  {
   "cell_type": "code",
   "execution_count": 62,
   "id": "b140986f",
   "metadata": {
    "scrolled": false
   },
   "outputs": [
    {
     "data": {
      "text/plain": [
       "<matplotlib.image.AxesImage at 0x7f88e59c14c0>"
      ]
     },
     "execution_count": 62,
     "metadata": {},
     "output_type": "execute_result"
    },
    {
     "data": {
      "image/png": "[encoded data removed]",
      "text/plain": [
       "<Figure size 640x480 with 1 Axes>"
      ]
     },
     "metadata": {},
     "output_type": "display_data"
    }
   ],
   "source": [
    "matrix = np.random.randint(2, size=(20, 20))  # Generates a matrix with only zeros and ones\n",
    "plt.imshow(matrix, cmap='winter')  # The cmap property controls the color map of the image"
   ]
  },
  {
   "cell_type": "markdown",
   "id": "9e5699bc",
   "metadata": {},
   "source": [
    "### Subplots"
   ]
  },
  {
   "cell_type": "code",
   "execution_count": 63,
   "id": "4be7230d",
   "metadata": {},
   "outputs": [
    {
     "data": {
      "image/png": "[encoded data removed]",
      "text/plain": [
       "<Figure size 640x480 with 2 Axes>"
      ]
     },
     "metadata": {},
     "output_type": "display_data"
    }
   ],
   "source": [
    "# Compute the x and y coordinates for points on sine and cosine curves\n",
    "x = np.arange(0, 3 * np.pi, 0.1)\n",
    "y_sin = np.sin(x)\n",
    "y_cos = np.cos(x)\n",
    "\n",
    "# Set up a subplot grid that has height 2 and width 1\n",
    "fig, axes = plt.subplots(2, 1)\n",
    "\n",
    "# Make the first plot\n",
    "axes[0].plot(x, y_sin)\n",
    "axes[0].set_title('Sine')\n",
    "\n",
    "# Make the second plot\n",
    "axes[1].plot(x, y_cos)\n",
    "axes[1].set_title('Cosine')\n",
    "\n",
    "# Show the figure.\n",
    "plt.show()"
   ]
  },
  {
   "cell_type": "markdown",
   "id": "eccda995",
   "metadata": {},
   "source": [
    "## 5.3 Additional Resources\n",
    "\n",
    "- [NumPy Official Documentation](https://numpy.org/doc/stable/)\n",
    "- [Matplotlib Official Documentation](https://matplotlib.org/stable/contents.html)\n",
    "- [Python Data Science Handbook](https://jakevdp.github.io/PythonDataScienceHandbook/)"
   ]
  },
  {
   "cell_type": "markdown",
   "id": "68827539",
   "metadata": {},
   "source": [
    "_____"
   ]
  },
  {
   "cell_type": "markdown",
   "id": "0bba6d7c",
   "metadata": {},
   "source": [
    "# 6. Writing Clean Code: PEP 8\n",
    "\n",
    "Writing clean, readable code is essential for collaboration and maintainability. PEP 8, Python's style guide, provides conventions to help Python developers write code that is clear and consistent. In this section, we'll explore some of these conventions through examples."
   ]
  },
  {
   "cell_type": "markdown",
   "id": "4ee9b0cd",
   "metadata": {},
   "source": [
    "## 6.1. Function Naming and Definition\n",
    "\n",
    "Functions should have descriptive names, and it's convention to use lowercase with words separated by underscores. This makes the function's purpose clear at a glance."
   ]
  },
  {
   "cell_type": "markdown",
   "id": "1070a8b5",
   "metadata": {},
   "source": [
    "### Good Example\n"
   ]
  },
  {
   "cell_type": "code",
   "execution_count": null,
   "id": "6b86c7ff",
   "metadata": {},
   "outputs": [],
   "source": [
    "def calculate_area(radius: float) -> float:\n",
    "    \"\"\"\n",
    "    Return the area of a circle given its radius.\n",
    "    \n",
    "    Parameters:\n",
    "    - radius (float): The radius of the circle.\n",
    "    \n",
    "    Returns:\n",
    "    - float: The area of the circle.\n",
    "    \"\"\"\n",
    "    pi = 3.14159\n",
    "    return pi * (radius ** 2)"
   ]
  },
  {
   "cell_type": "markdown",
   "id": "40d31c4b",
   "metadata": {},
   "source": [
    "### Bad Example\n"
   ]
  },
  {
   "cell_type": "code",
   "execution_count": null,
   "id": "1b536217",
   "metadata": {},
   "outputs": [],
   "source": [
    "def ca(r):\n",
    "    p = 3.14159\n",
    "    return p * (r ** 2)"
   ]
  },
  {
   "cell_type": "markdown",
   "id": "42260201",
   "metadata": {},
   "source": [
    "## 6.2. Variable Naming\n",
    "\n",
    "Variable names should be short yet descriptive. Avoid using names that are too generic or too verbose.\n"
   ]
  },
  {
   "cell_type": "markdown",
   "id": "61b8ed3f",
   "metadata": {},
   "source": [
    "### Good Example\n"
   ]
  },
  {
   "cell_type": "code",
   "execution_count": null,
   "id": "3d926976",
   "metadata": {},
   "outputs": [],
   "source": [
    "student_names = [\"Alice\", \"Bob\", \"Charlie\"]\n",
    "studentNames = [\"Alice\", \"Bob\", \"Charlie\"]"
   ]
  },
  {
   "cell_type": "markdown",
   "id": "ea6f9b1e",
   "metadata": {},
   "source": [
    "### Bad Example\n"
   ]
  },
  {
   "cell_type": "code",
   "execution_count": null,
   "id": "6b6bdd0b",
   "metadata": {},
   "outputs": [],
   "source": [
    "sn = [\"Alice\", \"Bob\", \"Charlie\"]\n",
    "list_of_names_of_students_in_the_class = [\"Alice\", \"Bob\", \"Charlie\"]\n",
    "list1 = [\"Alice\", \"Bob\", \"Charlie\"]"
   ]
  },
  {
   "cell_type": "markdown",
   "id": "f9148190",
   "metadata": {},
   "source": [
    "## 6.3. Whitespace and Indentation\n",
    "\n",
    "Proper use of whitespace and indentation is crucial for code readability.\n"
   ]
  },
  {
   "cell_type": "markdown",
   "id": "71f4cd6b",
   "metadata": {},
   "source": [
    "### Good Example\n"
   ]
  },
  {
   "cell_type": "code",
   "execution_count": null,
   "id": "73d114b4",
   "metadata": {},
   "outputs": [],
   "source": [
    "def greet(name):\n",
    "    if name:\n",
    "        return f\"Hello, {name}!\"\n",
    "    else:\n",
    "        return \"Hello!\""
   ]
  },
  {
   "cell_type": "markdown",
   "id": "685692a9",
   "metadata": {},
   "source": [
    "### Bad Example\n"
   ]
  },
  {
   "cell_type": "code",
   "execution_count": null,
   "id": "d5fe59a0",
   "metadata": {},
   "outputs": [],
   "source": [
    "def greet(name):\n",
    "  if name:\n",
    "  return f\"Hello, {name}!\"\n",
    "  else:\n",
    "  return \"Hello!\""
   ]
  },
  {
   "cell_type": "markdown",
   "id": "f85a80c9",
   "metadata": {},
   "source": [
    "## 6.4. Comments and Docstrings\n",
    "\n",
    "While comments can be useful, it's often better to express the intent of your code through clear code and descriptive docstrings. Comments should be used sparingly, i.e\n"
   ]
  },
  {
   "cell_type": "markdown",
   "id": "1923bedc",
   "metadata": {},
   "source": [
    "### Good Example\n"
   ]
  },
  {
   "cell_type": "code",
   "execution_count": null,
   "id": "c245a959",
   "metadata": {},
   "outputs": [],
   "source": [
    "def is_prime(number: int) -> bool:\n",
    "    \"\"\"\n",
    "    Check if a number is prime.\n",
    "    \n",
    "    Parameters:\n",
    "    - number (int): The number to check.\n",
    "    \n",
    "    Returns:\n",
    "    - bool: True if the number is prime, False otherwise.\n",
    "    \"\"\"\n",
    "    if number <= 1:\n",
    "        return False\n",
    "    for i in range(2, number):\n",
    "        if number % i == 0:\n",
    "            return False\n",
    "    return True"
   ]
  },
  {
   "cell_type": "markdown",
   "id": "942fac0d",
   "metadata": {},
   "source": [
    "### Bad Example\n"
   ]
  },
  {
   "cell_type": "code",
   "execution_count": null,
   "id": "a98a94f7",
   "metadata": {},
   "outputs": [],
   "source": [
    "def is_prime(n):\n",
    "    # This function checks if a number is prime\n",
    "    if n <= 1:  # If number is less than or equal to 1, it's not prime\n",
    "        return False\n",
    "    # Loop through numbers from 2 to the given number\n",
    "    for i in range(2, n):\n",
    "        # If number is divisible by any number in the loop, it's not prime\n",
    "        if n % i == 0:\n",
    "            return False\n",
    "    # If we've gone through the whole loop and didn't return False, it's prime\n",
    "    return True"
   ]
  },
  {
   "cell_type": "markdown",
   "id": "6254b78f",
   "metadata": {},
   "source": [
    "## 6.5. Additional Resources\n",
    "\n",
    "- [PEP 8 Guide](https://www.python.org/dev/peps/pep-0008/)\n",
    "- [Real Python - PEP 8](https://realpython.com/tutorials/pep8/)"
   ]
  }
 ],
 "metadata": {
  "kernelspec": {
   "display_name": "c142",
   "language": "python",
   "name": "c142"
  },
  "language_info": {
   "codemirror_mode": {
    "name": "ipython",
    "version": 3
   },
   "file_extension": ".py",
   "mimetype": "text/x-python",
   "name": "python",
   "nbconvert_exporter": "python",
   "pygments_lexer": "ipython3",
   "version": "3.8.18"
  }
 },
 "nbformat": 4,
 "nbformat_minor": 5
}
