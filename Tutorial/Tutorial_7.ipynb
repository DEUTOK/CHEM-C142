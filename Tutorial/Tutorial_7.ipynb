{
 "cells": [
  {
   "cell_type": "markdown",
   "id": "ed779e31",
   "metadata": {},
   "source": [
    "# Tutorial 7 - CNN & Residual Network\n",
    "\n",
    "\n",
    "## Outline\n",
    "\n",
    "+ Convolutional Neural Network (CNN):\n",
    "    + Hyperparamters in CNN: channels, padding, stride, dilation\n",
    "    + Pooling\n",
    "    + CNN in PyTorch\n",
    "+ Residual Network\n",
    "+ Batch Normalization"
   ]
  },
  {
   "cell_type": "markdown",
   "id": "b258a127",
   "metadata": {},
   "source": [
    "# HW6 - Helper function\n",
    "\n",
    "\n",
    "You can use the following decorator to report time:"
   ]
  },
  {
   "cell_type": "code",
   "execution_count": 19,
   "id": "64f4321e",
   "metadata": {},
   "outputs": [
    {
     "name": "stdout",
     "output_type": "stream",
     "text": [
      "func:sleep took: 0.1001 sec\n"
     ]
    }
   ],
   "source": [
    "import time\n",
    "\n",
    "def timeit(f):\n",
    "\n",
    "    def timed(*args, **kw):\n",
    "\n",
    "        ts = time.time()\n",
    "        result = f(*args, **kw)\n",
    "        te = time.time()\n",
    "\n",
    "        print(f'func:{f.__name__} took: {te-ts:.4f} sec')\n",
    "        return result\n",
    "\n",
    "    return timed\n",
    "\n",
    "@timeit\n",
    "def sleep(sec):\n",
    "    return time.sleep(sec)\n",
    "\n",
    "sleep(0.1)"
   ]
  },
  {
   "cell_type": "markdown",
   "id": "074b70bc",
   "metadata": {},
   "source": [
    "## Convolutional Neural Netwok (CNN)\n",
    "\n",
    "### CNN general architechture\n",
    "![](https://cdn-images-1.medium.com/max/800/1*lvvWF48t7cyRWqct13eU0w.jpeg)  \n",
    "\n",
    "\n",
    "### Convolution Filters help extract features\n",
    "![](https://qph.fs.quoracdn.net/main-qimg-50915e66f98186a786b3d0344eea9aba-pjlq)  \n",
    "\n",
    "### Calculating convolution output shape\n",
    "Here is a [visualiztion](https://github.com/vdumoulin/conv_arithmetic/blob/master/README.md) for padding, stride and dilation\n",
    "\n",
    "$$H_{\\text {out }}=\\left[\\frac{H_{\\text {in }}+2 \\times \\text { padding }-\\operatorname{dilation} \\times(\\text { kernel size }-1)-1}{\\text { stride }}+1\\right]$$\n"
   ]
  },
  {
   "cell_type": "code",
   "execution_count": 20,
   "id": "8576ccfc",
   "metadata": {},
   "outputs": [],
   "source": [
    "import pickle\n",
    "import torch\n",
    "import torch.nn as nn"
   ]
  },
  {
   "cell_type": "code",
   "execution_count": 21,
   "id": "a27fb37e",
   "metadata": {
    "scrolled": true
   },
   "outputs": [
    {
     "name": "stdout",
     "output_type": "stream",
     "text": [
      "tensor([[[0.3971]]], grad_fn=<SqueezeBackward1>)\n"
     ]
    },
    {
     "data": {
      "text/plain": [
       "tensor([0.3971])"
      ]
     },
     "execution_count": 21,
     "metadata": {},
     "output_type": "execute_result"
    }
   ],
   "source": [
    "# init a Conv2d layer\n",
    "conv = nn.Conv2d(1,1,kernel_size =2)\n",
    "data = torch.rand(1,2,2)\n",
    "print(conv(data))\n",
    "\n",
    "torch.sum(conv.weight.data*data) + conv.bias.data"
   ]
  },
  {
   "cell_type": "code",
   "execution_count": 22,
   "id": "4a24b5cd",
   "metadata": {},
   "outputs": [
    {
     "data": {
      "text/plain": [
       "MaxPool2d(kernel_size=2, stride=2, padding=0, dilation=1, ceil_mode=False)"
      ]
     },
     "execution_count": 22,
     "metadata": {},
     "output_type": "execute_result"
    }
   ],
   "source": [
    "# init a MaxPool layer\n",
    "max_pool = nn.MaxPool2d(2)\n",
    "max_pool"
   ]
  },
  {
   "cell_type": "code",
   "execution_count": 23,
   "id": "7c02f960",
   "metadata": {},
   "outputs": [
    {
     "data": {
      "text/plain": [
       "AvgPool2d(kernel_size=2, stride=2, padding=0)"
      ]
     },
     "execution_count": 23,
     "metadata": {},
     "output_type": "execute_result"
    }
   ],
   "source": [
    "# init a Average Pool layer\n",
    "avg_pool = nn.AvgPool2d(2)\n",
    "avg_pool"
   ]
  },
  {
   "cell_type": "code",
   "execution_count": 24,
   "id": "2a3dcfc4",
   "metadata": {},
   "outputs": [
    {
     "data": {
      "text/plain": [
       "tensor([[[[0.1446]]]], grad_fn=<ConvolutionBackward0>)"
      ]
     },
     "execution_count": 24,
     "metadata": {},
     "output_type": "execute_result"
    }
   ],
   "source": [
    "def out_dim(in_dim, kernel_size, padding, stride, dilation):\n",
    "    return (in_dim + 2 * padding - dilation * (kernel_size - 1) - 1) // stride + 1\n",
    "\n",
    "\n",
    "# data shape: (N, C, W, H)\n",
    "data = torch.rand(1, 1, 2, 2)\n",
    "conv(data)"
   ]
  },
  {
   "cell_type": "markdown",
   "id": "e2c580b7",
   "metadata": {},
   "source": [
    "### LeNet architecture\n",
    "LeCun, Y.; Bottou, L.; Bengio, Y. & Haffner, P. (1998). Gradient-based learning applied to document recognition.Proceedings of the IEEE. 86(11): 2278 - 2324.\n",
    "\n",
    "|Layer No.|Layer type|#channels/#features|Kernel size|Stride|Activation|\n",
    "|---|---|---|---|---|---|\n",
    "|1|2D Convolution|6|5|1|tanh|\n",
    "|2|Average pooling|6|2|2|\\\\|\n",
    "|3|2D Convolution|16|5|1|tanh|\n",
    "|4|Average pooling|16|2|2|\\\\|\n",
    "|5|2D Convolution|120|5|1|tanh|\n",
    "|6|Flatten|\\\\|\\\\|\\\\|\\\\|\n",
    "|7|Fully connected|84|\\\\|\\\\|tanh|\n",
    "|8|Fully connected|10|\\\\|\\\\|softmax|"
   ]
  },
  {
   "cell_type": "code",
   "execution_count": 25,
   "id": "c3860950",
   "metadata": {},
   "outputs": [],
   "source": [
    "def load_dataset(path):\n",
    "    with open(path, 'rb') as f:\n",
    "        train_data, test_data = pickle.load(f)\n",
    "    \n",
    "    X_train = torch.tensor(train_data[0], dtype=torch.float).unsqueeze(1)\n",
    "    y_train = torch.tensor(train_data[1], dtype=torch.long)\n",
    "    X_test = torch.tensor(test_data[0], dtype=torch.float).unsqueeze(1)\n",
    "    y_test = torch.tensor(test_data[1], dtype=torch.long)\n",
    "    return X_train, y_train, X_test, y_test\n",
    "\n",
    "X_train, y_train, X_test, y_test = load_dataset(\"/Users/mac_1/Desktop/CHEM C142/mnist.pkl\")"
   ]
  },
  {
   "cell_type": "code",
   "execution_count": 26,
   "id": "fe63a5fd",
   "metadata": {},
   "outputs": [
    {
     "name": "stdout",
     "output_type": "stream",
     "text": [
      "torch.Size([10, 32, 32])\n",
      "torch.Size([10, 1, 32, 32])\n"
     ]
    }
   ],
   "source": [
    "X = torch.rand(10,32,32)\n",
    "print(X.shape)\n",
    "X = X.unsqueeze(1)\n",
    "print(X.shape)"
   ]
  },
  {
   "cell_type": "code",
   "execution_count": 32,
   "id": "dc07401b",
   "metadata": {},
   "outputs": [
    {
     "data": {
      "text/plain": [
       "LeNet(\n",
       "  (conv): ModuleList(\n",
       "    (0): Conv2d(1, 6, kernel_size=(5, 5), stride=(1, 1))\n",
       "    (1): Conv2d(6, 16, kernel_size=(5, 5), stride=(1, 1))\n",
       "    (2): Conv2d(16, 120, kernel_size=(5, 5), stride=(1, 1))\n",
       "  )\n",
       "  (pool): AvgPool2d(kernel_size=2, stride=2, padding=0)\n",
       "  (activation): Tanh()\n",
       "  (fc): ModuleList(\n",
       "    (0): Linear(in_features=120, out_features=84, bias=True)\n",
       "    (1): Linear(in_features=84, out_features=10, bias=True)\n",
       "  )\n",
       ")"
      ]
     },
     "execution_count": 32,
     "metadata": {},
     "output_type": "execute_result"
    }
   ],
   "source": [
    "class LeNet(nn.Module):\n",
    "    def __init__(self, in_channels=1):\n",
    "        super().__init__()\n",
    "        self.conv = nn.ModuleList([\n",
    "            nn.Conv2d(in_channels, 6, kernel_size=5,stride=1),\n",
    "            nn.Conv2d(6,16,kernel_size=5,stride=1),\n",
    "            nn.Conv2d(16,120,kernel_size=5,stride=1)\n",
    "        ])\n",
    "        self.pool = nn.AvgPool2d(2)\n",
    "        self.activation = nn.Tanh()\n",
    "        self.fc = nn.ModuleList([\n",
    "            nn.Linear(120, 84),\n",
    "            nn.Linear(84, 10)\n",
    "        ])\n",
    "    \n",
    "    def forward(self, x):\n",
    "        for i in range(2):\n",
    "            x = self.pool(self.activation(self.conv[i](x)))\n",
    "        x = nn.Flatten()(self.activation(self.conv[2](x)))\n",
    "        x = self.activation(self.fc[0](x))\n",
    "        x = nn.Softmax(dim=-1)(self.fc[1](x))\n",
    "        return x\n",
    "\n",
    "net = LeNet()\n",
    "net"
   ]
  },
  {
   "cell_type": "code",
   "execution_count": 33,
   "id": "fc16c4fe",
   "metadata": {},
   "outputs": [
    {
     "name": "stdout",
     "output_type": "stream",
     "text": [
      "==========================================================================================\n",
      "Layer (type:depth-idx)                   Output Shape              Param #\n",
      "==========================================================================================\n",
      "├─ModuleList: 1                          []                        --\n",
      "|    └─Conv2d: 2-1                       [-1, 6, 28, 28]           156\n",
      "├─Tanh: 1-1                              [-1, 6, 28, 28]           --\n",
      "├─AvgPool2d: 1-2                         [-1, 6, 14, 14]           --\n",
      "├─ModuleList: 1                          []                        --\n",
      "|    └─Conv2d: 2-2                       [-1, 16, 10, 10]          2,416\n",
      "├─Tanh: 1-3                              [-1, 16, 10, 10]          --\n",
      "├─AvgPool2d: 1-4                         [-1, 16, 5, 5]            --\n",
      "├─ModuleList: 1                          []                        --\n",
      "|    └─Conv2d: 2-3                       [-1, 120, 1, 1]           48,120\n",
      "├─Tanh: 1-5                              [-1, 120, 1, 1]           --\n",
      "├─ModuleList: 1                          []                        --\n",
      "|    └─Linear: 2-4                       [-1, 84]                  10,164\n",
      "├─Tanh: 1-6                              [-1, 84]                  --\n",
      "├─ModuleList: 1                          []                        --\n",
      "|    └─Linear: 2-5                       [-1, 10]                  850\n",
      "==========================================================================================\n",
      "Total params: 61,706\n",
      "Trainable params: 61,706\n",
      "Non-trainable params: 0\n",
      "Total mult-adds (M): 0.42\n",
      "==========================================================================================\n",
      "Input size (MB): 0.00\n",
      "Forward/backward pass size (MB): 0.05\n",
      "Params size (MB): 0.24\n",
      "Estimated Total Size (MB): 0.29\n",
      "==========================================================================================\n"
     ]
    }
   ],
   "source": [
    "# Use torchsummary to print the architecture\n",
    "# ! pip install torch-summary\n",
    "from torchsummary import summary\n",
    "\n",
    "s = summary(net, (1, 32, 32))"
   ]
  },
  {
   "cell_type": "code",
   "execution_count": 34,
   "id": "b3a66d8b",
   "metadata": {
    "scrolled": false
   },
   "outputs": [
    {
     "data": {
      "text/plain": [
       "tensor([[0.0876, 0.0927, 0.0985, 0.1008, 0.1053, 0.0940, 0.1085, 0.1137, 0.0982,\n",
       "         0.1007],\n",
       "        [0.0911, 0.0950, 0.0944, 0.1016, 0.1023, 0.0951, 0.1100, 0.1164, 0.0968,\n",
       "         0.0972],\n",
       "        [0.0908, 0.0944, 0.1030, 0.1012, 0.1067, 0.0928, 0.1056, 0.1112, 0.0939,\n",
       "         0.1003],\n",
       "        [0.0898, 0.0946, 0.0981, 0.1028, 0.1040, 0.0916, 0.1130, 0.1083, 0.0936,\n",
       "         0.1040],\n",
       "        [0.0842, 0.0953, 0.1006, 0.1031, 0.1093, 0.0928, 0.1049, 0.1122, 0.0962,\n",
       "         0.1014],\n",
       "        [0.0832, 0.0954, 0.0979, 0.0988, 0.1088, 0.0978, 0.1128, 0.1125, 0.0914,\n",
       "         0.1015],\n",
       "        [0.0884, 0.0898, 0.1006, 0.1075, 0.1075, 0.0893, 0.1086, 0.1163, 0.0935,\n",
       "         0.0984],\n",
       "        [0.0846, 0.0942, 0.0981, 0.1044, 0.1099, 0.0927, 0.1102, 0.1136, 0.0951,\n",
       "         0.0973],\n",
       "        [0.0885, 0.0906, 0.1020, 0.1043, 0.1065, 0.0904, 0.1077, 0.1142, 0.0947,\n",
       "         0.1012],\n",
       "        [0.0848, 0.0947, 0.1005, 0.1015, 0.1057, 0.0972, 0.1116, 0.1135, 0.0939,\n",
       "         0.0965]], grad_fn=<SoftmaxBackward0>)"
      ]
     },
     "execution_count": 34,
     "metadata": {},
     "output_type": "execute_result"
    }
   ],
   "source": [
    "net(X_train[:10])"
   ]
  },
  {
   "cell_type": "markdown",
   "id": "8b2e2252",
   "metadata": {},
   "source": [
    "## Residual Network (ResNet)\n",
    "\n",
    "\n",
    "An example of residual block:\n",
    "\n",
    "<img src=\"https://miro.medium.com/v2/resize:fit:868/format:webp/0*sGlmENAXIZhSqyFZ\" width=\"400\" />"
   ]
  },
  {
   "cell_type": "code",
   "execution_count": 35,
   "id": "71286358",
   "metadata": {},
   "outputs": [],
   "source": [
    "class ResBlock(nn.Module):\n",
    "    def __init__(self, dim):\n",
    "        super().__init__()\n",
    "        self.fc = nn.ModuleList([nn.Linear(dim, dim), nn.Linear(dim, dim)])\n",
    "        self.activation = nn.ReLU()\n",
    "    \n",
    "    def forward(self, x):\n",
    "        out = self.activation(self.fc[0](x))\n",
    "        out = self.fc[1](out)\n",
    "        out += x\n",
    "        out = self.activation(out)\n",
    "        return out\n",
    "    "
   ]
  },
  {
   "cell_type": "code",
   "execution_count": 45,
   "id": "ceedd1a5",
   "metadata": {},
   "outputs": [
    {
     "ename": "SyntaxError",
     "evalue": "invalid syntax (3719173973.py, line 13)",
     "output_type": "error",
     "traceback": [
      "\u001b[0;36m  File \u001b[0;32m\"/var/folders/d9/6wjn536x21n4fgb_hwj80bx80000gp/T/ipykernel_28686/3719173973.py\"\u001b[0;36m, line \u001b[0;32m13\u001b[0m\n\u001b[0;31m    nn.BatchNorm2d(16)\u001b[0m\n\u001b[0m    ^\u001b[0m\n\u001b[0;31mSyntaxError\u001b[0m\u001b[0;31m:\u001b[0m invalid syntax\n"
     ]
    }
   ],
   "source": [
    "# Let't modify the LeNet by adding a skip connection at the first fc layer\n",
    "class LeNetRes(nn.Module):\n",
    "    \n",
    "    def __init__(self, in_channels=1):\n",
    "        super().__init__()\n",
    "        self.conv = nn.ModuleList([\n",
    "            nn.Conv2d(in_channels, 6, kernel_size=5,stride=1),\n",
    "            nn.Conv2d(6,16,kernel_size=5,stride=1),\n",
    "            nn.Conv2d(16,120,kernel_size=5,stride=1)\n",
    "        ])\n",
    "        self.bn = nn.ModuleList([\n",
    "            nn.BatchNorm2d(6)\n",
    "            nn.BatchNorm2d(16)\n",
    "        ])\n",
    "        self.pool = nn.AvgPool2d(kernel_size=2)\n",
    "        self.activation = nn.Tanh()\n",
    "        self.fc = nn.ModuleList([\n",
    "            nn.Linear(120, 120),\n",
    "            nn.Linear(120, 84),\n",
    "            nn.Linear(84,10)\n",
    "        ])\n",
    "    \n",
    "    def forward(self, x):\n",
    "        for i in range(2):\n",
    "            x = self.pool(self.activation(self.conv[i](x)))\n",
    "        x = nn.Flatten()(self.activation(self.conv[2](x)))\n",
    "        x = self.activation(self.fc[0](x))\n",
    "        x = nn.Softmax(dim=-1)(self.fc[1](x))\n",
    "        return x\n",
    "\n",
    "net = LeNet()\n",
    "net"
   ]
  },
  {
   "cell_type": "markdown",
   "id": "94a2c75c",
   "metadata": {},
   "source": [
    "## Batch Normalization (BN)\n",
    "\n",
    "For a 4-D input data $X$ with shape $(N,C,W,H)$. For each channel, the data is normalized by:\n",
    "\n",
    "$$\\hat{X}_{ijkl}=\\frac{X_{ijkl}-\\mathrm{mean}(X_j)}{\\sqrt{\\mathrm{var}(X_j)+\\epsilon}} * \\gamma_j + \\beta_j$$\n",
    "\n",
    "where\n",
    "\n",
    "$$\\mathrm{mean}(X_j)=\\frac{1}{NWH}\\sum_{i}^N\\sum_k^W\\sum_l^H X_{ikl}$$\n",
    "$$\\mathrm{var}(X_j)=\\frac{1}{NWH}\\sum_{i}^N\\sum_k^W\\sum_l^H (X_{ikl}-\\mathrm{mean}(X_j))^2$$\n",
    "\n",
    "$\\epsilon$ is a small number (say, $10^{-5}$) to avoid numerical instability. $\\boldsymbol{\\gamma, \\beta}$ are learnable parameters"
   ]
  },
  {
   "cell_type": "code",
   "execution_count": 48,
   "id": "166af6f6",
   "metadata": {
    "scrolled": true
   },
   "outputs": [],
   "source": [
    "batch_norm = nn.BatchNorm2d(120)"
   ]
  }
 ],
 "metadata": {
  "kernelspec": {
   "display_name": "Python 3 (ipykernel)",
   "language": "python",
   "name": "python3"
  },
  "language_info": {
   "codemirror_mode": {
    "name": "ipython",
    "version": 3
   },
   "file_extension": ".py",
   "mimetype": "text/x-python",
   "name": "python",
   "nbconvert_exporter": "python",
   "pygments_lexer": "ipython3",
   "version": "3.9.13"
  }
 },
 "nbformat": 4,
 "nbformat_minor": 5
}
