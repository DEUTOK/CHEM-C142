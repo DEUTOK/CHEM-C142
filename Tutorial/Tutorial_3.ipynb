{
 "cells": [
  {
   "cell_type": "markdown",
   "id": "3a69204e",
   "metadata": {},
   "source": [
    "# Tutorial 3\n",
    "\n",
    "## Outline\n",
    "\n",
    "+ Scikit-learn:\n",
    "    - Data preprocessing: StandardScaler (for continuous featrues), OnehotEncoder (for categorical features)\n",
    "    - Data splitting\n",
    "+ Artificial Neural Network:\n",
    "    - Activation function\n",
    "+ RDKit\n",
    "    - SMILES: Simplified Molecular Input Line Entry System"
   ]
  },
  {
   "cell_type": "markdown",
   "id": "d5909a0d",
   "metadata": {},
   "source": [
    "## 1. Scikit-learn\n",
    "\n",
    "A package that provides implementation of various machine learning algorithms (including supervised learning and unsupervised learning), as well as tools for data preprocessing and analysis.\n",
    "\n",
    "Documentations:\n",
    "\n",
    "+ [Scikit-learn](https://scikit-learn.org/stable/)\n",
    "+ [StandardScaler](https://scikit-learn.org/stable/modules/generated/sklearn.preprocessing.StandardScaler.html)\n",
    "+ [OneHotEncoder](https://scikit-learn.org/stable/modules/generated/sklearn.preprocessing.OneHotEncoder.html#sklearn.preprocessing.OneHotEncoder)\n",
    "+ [KFold](https://scikit-learn.org/stable/modules/generated/sklearn.model_selection.KFold.html#sklearn.model_selection.KFold)"
   ]
  },
  {
   "cell_type": "markdown",
   "id": "35d85b8a",
   "metadata": {},
   "source": [
    "### StandardScaler\n",
    "\n",
    "$$ X_\\mathrm{scale} = \\frac{X - \\mathrm{avg}(X)}{\\mathrm{std}(X)} $$"
   ]
  },
  {
   "cell_type": "code",
   "execution_count": 11,
   "id": "8cd89e4d",
   "metadata": {},
   "outputs": [],
   "source": [
    "import numpy as np\n",
    "import pandas as pd\n",
    "from sklearn.preprocessing import StandardScaler"
   ]
  },
  {
   "cell_type": "code",
   "execution_count": 6,
   "id": "cc5645e5",
   "metadata": {},
   "outputs": [
    {
     "data": {
      "text/html": [
       "<div>\n",
       "<style scoped>\n",
       "    .dataframe tbody tr th:only-of-type {\n",
       "        vertical-align: middle;\n",
       "    }\n",
       "\n",
       "    .dataframe tbody tr th {\n",
       "        vertical-align: top;\n",
       "    }\n",
       "\n",
       "    .dataframe thead th {\n",
       "        text-align: right;\n",
       "    }\n",
       "</style>\n",
       "<table border=\"1\" class=\"dataframe\">\n",
       "  <thead>\n",
       "    <tr style=\"text-align: right;\">\n",
       "      <th></th>\n",
       "      <th>PassengerId</th>\n",
       "      <th>Survived</th>\n",
       "      <th>Pclass</th>\n",
       "      <th>Name</th>\n",
       "      <th>Sex</th>\n",
       "      <th>Age</th>\n",
       "      <th>SibSp</th>\n",
       "      <th>Parch</th>\n",
       "      <th>Ticket</th>\n",
       "      <th>Fare</th>\n",
       "      <th>Cabin</th>\n",
       "      <th>Embarked</th>\n",
       "    </tr>\n",
       "  </thead>\n",
       "  <tbody>\n",
       "    <tr>\n",
       "      <th>0</th>\n",
       "      <td>1</td>\n",
       "      <td>0</td>\n",
       "      <td>3</td>\n",
       "      <td>Braund, Mr. Owen Harris</td>\n",
       "      <td>male</td>\n",
       "      <td>22.0</td>\n",
       "      <td>1</td>\n",
       "      <td>0</td>\n",
       "      <td>A/5 21171</td>\n",
       "      <td>7.2500</td>\n",
       "      <td>NaN</td>\n",
       "      <td>S</td>\n",
       "    </tr>\n",
       "    <tr>\n",
       "      <th>1</th>\n",
       "      <td>2</td>\n",
       "      <td>1</td>\n",
       "      <td>1</td>\n",
       "      <td>Cumings, Mrs. John Bradley (Florence Briggs Th...</td>\n",
       "      <td>female</td>\n",
       "      <td>38.0</td>\n",
       "      <td>1</td>\n",
       "      <td>0</td>\n",
       "      <td>PC 17599</td>\n",
       "      <td>71.2833</td>\n",
       "      <td>C85</td>\n",
       "      <td>C</td>\n",
       "    </tr>\n",
       "    <tr>\n",
       "      <th>2</th>\n",
       "      <td>3</td>\n",
       "      <td>1</td>\n",
       "      <td>3</td>\n",
       "      <td>Heikkinen, Miss. Laina</td>\n",
       "      <td>female</td>\n",
       "      <td>26.0</td>\n",
       "      <td>0</td>\n",
       "      <td>0</td>\n",
       "      <td>STON/O2. 3101282</td>\n",
       "      <td>7.9250</td>\n",
       "      <td>NaN</td>\n",
       "      <td>S</td>\n",
       "    </tr>\n",
       "    <tr>\n",
       "      <th>3</th>\n",
       "      <td>4</td>\n",
       "      <td>1</td>\n",
       "      <td>1</td>\n",
       "      <td>Futrelle, Mrs. Jacques Heath (Lily May Peel)</td>\n",
       "      <td>female</td>\n",
       "      <td>35.0</td>\n",
       "      <td>1</td>\n",
       "      <td>0</td>\n",
       "      <td>113803</td>\n",
       "      <td>53.1000</td>\n",
       "      <td>C123</td>\n",
       "      <td>S</td>\n",
       "    </tr>\n",
       "    <tr>\n",
       "      <th>4</th>\n",
       "      <td>5</td>\n",
       "      <td>0</td>\n",
       "      <td>3</td>\n",
       "      <td>Allen, Mr. William Henry</td>\n",
       "      <td>male</td>\n",
       "      <td>35.0</td>\n",
       "      <td>0</td>\n",
       "      <td>0</td>\n",
       "      <td>373450</td>\n",
       "      <td>8.0500</td>\n",
       "      <td>NaN</td>\n",
       "      <td>S</td>\n",
       "    </tr>\n",
       "  </tbody>\n",
       "</table>\n",
       "</div>"
      ],
      "text/plain": [
       "   PassengerId  Survived  Pclass  \\\n",
       "0            1         0       3   \n",
       "1            2         1       1   \n",
       "2            3         1       3   \n",
       "3            4         1       1   \n",
       "4            5         0       3   \n",
       "\n",
       "                                                Name     Sex   Age  SibSp  \\\n",
       "0                            Braund, Mr. Owen Harris    male  22.0      1   \n",
       "1  Cumings, Mrs. John Bradley (Florence Briggs Th...  female  38.0      1   \n",
       "2                             Heikkinen, Miss. Laina  female  26.0      0   \n",
       "3       Futrelle, Mrs. Jacques Heath (Lily May Peel)  female  35.0      1   \n",
       "4                           Allen, Mr. William Henry    male  35.0      0   \n",
       "\n",
       "   Parch            Ticket     Fare Cabin Embarked  \n",
       "0      0         A/5 21171   7.2500   NaN        S  \n",
       "1      0          PC 17599  71.2833   C85        C  \n",
       "2      0  STON/O2. 3101282   7.9250   NaN        S  \n",
       "3      0            113803  53.1000  C123        S  \n",
       "4      0            373450   8.0500   NaN        S  "
      ]
     },
     "execution_count": 6,
     "metadata": {},
     "output_type": "execute_result"
    }
   ],
   "source": [
    "df = pd.read_csv(\"../titanic.csv\")\n",
    "df.head()"
   ]
  },
  {
   "cell_type": "code",
   "execution_count": 7,
   "id": "a0f36b86",
   "metadata": {},
   "outputs": [
    {
     "name": "stdout",
     "output_type": "stream",
     "text": [
      "(712, 4)\n"
     ]
    }
   ],
   "source": [
    "df = pd.read_csv(\"/Users/mac_1/Desktop/CHEM C142/titanic.csv\")\n",
    "# data cleaning\n",
    "subdf = df[[\"Pclass\", \"Sex\", \"SibSp\", \"Parch\", \"Embarked\", \"Age\", \"Fare\", \"Survived\"]].dropna()\n",
    "\n",
    "# Categorical features: [\"Pclass\", \"Sex\", \"Embarked\"]\n",
    "categorical_features = subdf[[\"Pclass\", \"Sex\", \"Embarked\"]]\n",
    "# Continuous features: [\"Age\", \"Fare\", \"SibSp\", \"Parch\"]\n",
    "continuous_features = subdf[[\"Age\", \"Fare\", \"SibSp\", \"Parch\"]]\n",
    "\n",
    "X_cont = continuous_features.values # n_sample * n_feature\n",
    "print(X_cont.shape)"
   ]
  },
  {
   "cell_type": "code",
   "execution_count": 8,
   "id": "5c930ec1",
   "metadata": {},
   "outputs": [
    {
     "name": "stdout",
     "output_type": "stream",
     "text": [
      "Avg: [29.6420927  34.5672514   0.51404494  0.43258427]\n",
      "Std: [14.4827517  52.9014591   0.93003832  0.85358139]\n"
     ]
    }
   ],
   "source": [
    "# calculate avg. and std.\n",
    "print(\"Avg:\", np.mean(X_cont, axis=0))\n",
    "print(\"Std:\", np.std(X_cont, axis=0))"
   ]
  },
  {
   "cell_type": "code",
   "execution_count": 14,
   "id": "06357933",
   "metadata": {},
   "outputs": [],
   "source": [
    "# scale (or normalize)\n",
    "scaler = StandardScaler()\n",
    "X_norm = scaler.fit_transform(X_cont)"
   ]
  },
  {
   "cell_type": "code",
   "execution_count": 15,
   "id": "3fafe475",
   "metadata": {},
   "outputs": [
    {
     "name": "stdout",
     "output_type": "stream",
     "text": [
      "After scaling:\n",
      "Avg: [ 2.94396218e-16 -6.73618464e-17 -1.49692992e-17  1.49692992e-17]\n",
      "Std: [1. 1. 1. 1.]\n"
     ]
    }
   ],
   "source": [
    "# avg. and std. of scaled data\n",
    "print(\"After scaling:\")\n",
    "print(\"Avg:\", np.mean(X_norm, axis=0))\n",
    "print(\"Std:\", np.std(X_norm, axis=0))"
   ]
  },
  {
   "cell_type": "markdown",
   "id": "b6d64dfe",
   "metadata": {},
   "source": [
    "### OnehotEncoder\n",
    "\n",
    "Good approach to represent categorical features"
   ]
  },
  {
   "cell_type": "markdown",
   "id": "a43a7304",
   "metadata": {},
   "source": [
    "<table>\n",
    "    <tr><td>Fruits</td><td>Label Encoding</td><td>One-hot Encoding</td></tr>\n",
    "    <tr><td>Apple</td><td>1</td><td>[0, 1]</td></tr>\n",
    "    <tr><td>Banana</td><td>2</td><td>[1, 0]</td></tr>\n",
    "</table>"
   ]
  },
  {
   "cell_type": "code",
   "execution_count": 16,
   "id": "ab467b24",
   "metadata": {},
   "outputs": [],
   "source": [
    "from sklearn.preprocessing import OneHotEncoder"
   ]
  },
  {
   "cell_type": "code",
   "execution_count": 18,
   "id": "2da6347f",
   "metadata": {
    "scrolled": true
   },
   "outputs": [
    {
     "data": {
      "text/plain": [
       "array([[3, 'male', 'S'],\n",
       "       [1, 'female', 'C'],\n",
       "       [3, 'female', 'S'],\n",
       "       ...,\n",
       "       [1, 'female', 'S'],\n",
       "       [1, 'male', 'C'],\n",
       "       [3, 'male', 'Q']], dtype=object)"
      ]
     },
     "execution_count": 18,
     "metadata": {},
     "output_type": "execute_result"
    }
   ],
   "source": [
    "# find three catagorical features as an example\n",
    "X_cate = categorical_features.values\n",
    "X_cate"
   ]
  },
  {
   "cell_type": "code",
   "execution_count": 80,
   "id": "e70d9cf8",
   "metadata": {
    "scrolled": false
   },
   "outputs": [
    {
     "name": "stdout",
     "output_type": "stream",
     "text": [
      "(712, 8)\n"
     ]
    },
    {
     "data": {
      "text/plain": [
       "array([[0., 0., 1., ..., 0., 0., 1.],\n",
       "       [1., 0., 0., ..., 1., 0., 0.],\n",
       "       [0., 0., 1., ..., 0., 0., 1.],\n",
       "       ...,\n",
       "       [1., 0., 0., ..., 0., 0., 1.],\n",
       "       [1., 0., 0., ..., 1., 0., 0.],\n",
       "       [0., 0., 1., ..., 0., 1., 0.]])"
      ]
     },
     "execution_count": 80,
     "metadata": {},
     "output_type": "execute_result"
    }
   ],
   "source": [
    "# OneHotEncoding\n",
    "encoder = OneHotEncoder()\n",
    "\n",
    "\n",
    "X_onehot = encoder.fit_transform(X_cate).toarray()\n",
    "print(X_onehot.shape)\n",
    "X_onehot\n",
    "type(X_onehot)\n",
    "X_onehot"
   ]
  },
  {
   "cell_type": "code",
   "execution_count": 27,
   "id": "36de37d6",
   "metadata": {
    "scrolled": true
   },
   "outputs": [
    {
     "data": {
      "text/plain": [
       "[array([1, 2, 3], dtype=object),\n",
       " array(['female', 'male'], dtype=object),\n",
       " array(['C', 'Q', 'S'], dtype=object)]"
      ]
     },
     "execution_count": 27,
     "metadata": {},
     "output_type": "execute_result"
    }
   ],
   "source": [
    "# access categories\n",
    "encoder.categories_"
   ]
  },
  {
   "cell_type": "code",
   "execution_count": 28,
   "id": "90fc9c70",
   "metadata": {},
   "outputs": [
    {
     "name": "stdout",
     "output_type": "stream",
     "text": [
      "  (0, 2)\t1.0\n",
      "  (0, 4)\t1.0\n",
      "  (0, 7)\t1.0\n",
      "  (1, 0)\t1.0\n",
      "  (1, 3)\t1.0\n",
      "  (1, 5)\t1.0\n",
      "  (2, 2)\t1.0\n",
      "  (2, 3)\t1.0\n",
      "  (2, 7)\t1.0\n"
     ]
    },
    {
     "data": {
      "text/plain": [
       "array([[3, 'male', 'S'],\n",
       "       [1, 'female', 'C'],\n",
       "       [3, 'female', 'S']], dtype=object)"
      ]
     },
     "execution_count": 28,
     "metadata": {},
     "output_type": "execute_result"
    }
   ],
   "source": [
    "# tranform from One-Hot encoding back to original data\n",
    "X_test = X_onehot[:3]\n",
    "print(X_test)\n",
    "\n",
    "encoder.inverse_transform(X_test)"
   ]
  },
  {
   "cell_type": "markdown",
   "id": "1f65c3c4",
   "metadata": {},
   "source": [
    "### Data splitting"
   ]
  },
  {
   "cell_type": "markdown",
   "id": "8fa9797b",
   "metadata": {},
   "source": [
    "#### Overfitting\n",
    "\n",
    "<img src=\"overfit.png\" width=\"800\"/>\n",
    "\n",
    "Split data to Train/Validation/Test set can resolve this issue to some extent:\n",
    "\n",
    "<img src=\"train_test.png\" width=\"600\" />\n",
    "\n",
    "<img src=\"earlystop.png\" width=\"400\" />"
   ]
  },
  {
   "cell_type": "markdown",
   "id": "d61e14ff",
   "metadata": {},
   "source": [
    "Prepare the Titanic data:"
   ]
  },
  {
   "cell_type": "code",
   "execution_count": 81,
   "id": "822b7778",
   "metadata": {
    "scrolled": true
   },
   "outputs": [
    {
     "name": "stdout",
     "output_type": "stream",
     "text": [
      "(712, 12) (712, 1)\n"
     ]
    }
   ],
   "source": [
    "# combine categorical & continuous features\n",
    "X = np.hstack((X_norm, X_onehot))\n",
    "\n",
    "# it is recommended to reshape the outputs\n",
    "# to (n_samples, 1) in order to avoid unexpected broadcasting\n",
    "y = subdf['Survived'].values.reshape(-1, 1)\n",
    "\n",
    "# print the dimensions\n",
    "print(X.shape, y.shape)"
   ]
  },
  {
   "cell_type": "markdown",
   "id": "677612bb",
   "metadata": {},
   "source": [
    "#### Train-test split"
   ]
  },
  {
   "cell_type": "code",
   "execution_count": 38,
   "id": "8c1b80cd",
   "metadata": {},
   "outputs": [],
   "source": [
    "from sklearn.model_selection import train_test_split"
   ]
  },
  {
   "cell_type": "code",
   "execution_count": 82,
   "id": "1e7578c6",
   "metadata": {},
   "outputs": [],
   "source": [
    "X_train, X_test, y_train, y_test = train_test_split(X,y,test_size = 0.2)"
   ]
  },
  {
   "cell_type": "code",
   "execution_count": 83,
   "id": "9d035095",
   "metadata": {},
   "outputs": [
    {
     "name": "stdout",
     "output_type": "stream",
     "text": [
      "(569, 12) (569, 1)\n",
      "(143, 12) (143, 1)\n"
     ]
    }
   ],
   "source": [
    "print(X_train.shape, y_train.shape)\n",
    "print(X_test.shape, y_test.shape)"
   ]
  },
  {
   "cell_type": "markdown",
   "id": "04d1c435",
   "metadata": {},
   "source": [
    "#### K-Fold\n",
    "\n",
    "<img src=\"kfold.png\" width=\"600\" />"
   ]
  },
  {
   "cell_type": "code",
   "execution_count": 41,
   "id": "b193971a",
   "metadata": {},
   "outputs": [],
   "source": [
    "from sklearn.model_selection import KFold"
   ]
  },
  {
   "cell_type": "code",
   "execution_count": 84,
   "id": "adb40044",
   "metadata": {},
   "outputs": [],
   "source": [
    "# Kfold\n",
    "kf = KFold(n_splits=5, shuffle = True)\n",
    "\n",
    "for train_index, test_index in kf.split(X):\n",
    "    X_train, X_test = X[train_index], X[test_index]\n",
    "    y_train, y_test = y[train_index], y[test_index]"
   ]
  },
  {
   "cell_type": "markdown",
   "id": "c33ebd34",
   "metadata": {},
   "source": [
    "## 2. ANN\n",
    "\n",
    "<img src=\"http://colah.github.io/posts/2014-03-NN-Manifolds-Topology/img/example_network.svg\" width=\"500\" />"
   ]
  },
  {
   "cell_type": "code",
   "execution_count": 50,
   "id": "5a6273cc",
   "metadata": {},
   "outputs": [],
   "source": [
    "import matplotlib.pyplot as plt\n",
    "\n",
    "\n",
    "def plot(func, name):\n",
    "    x = np.linspace(-5, 5, 200)\n",
    "    y = func(x)\n",
    "    fig, ax = plt.subplots(1, 1, figsize=(4, 3))\n",
    "    ax.plot(x, y)\n",
    "    ax.grid(True)\n",
    "    ax.set_title(name)"
   ]
  },
  {
   "cell_type": "markdown",
   "id": "c18f3c19",
   "metadata": {},
   "source": [
    "### Activation Function\n",
    "\n",
    "\n",
    "<img src=\"https://media.geeksforgeeks.org/wp-content/uploads/20190410161828/newContent12.png\" width=\"600\"/>\n",
    "\n",
    "+ Linear\n",
    "\n",
    "$$ z(x) = x $$\n",
    "\n",
    "$$ z'(x) = 1 $$"
   ]
  },
  {
   "cell_type": "code",
   "execution_count": 66,
   "id": "ab851e6c",
   "metadata": {},
   "outputs": [
    {
     "data": {
      "image/png": "[encoded data removed]",
      "text/plain": [
       "<Figure size 400x300 with 1 Axes>"
      ]
     },
     "metadata": {},
     "output_type": "display_data"
    }
   ],
   "source": [
    "plot(np.tanh, \"Linear\")"
   ]
  },
  {
   "cell_type": "markdown",
   "id": "76a06373",
   "metadata": {},
   "source": [
    "+ tanh\n",
    "\n",
    "$$ z(x) = \\tanh x = \\frac{e^{x}-e^{-x}}{e^{x}+e^{-x}}$$\n",
    "\n",
    "$$ z'(x) = 1 - \\tanh^2 x $$\n"
   ]
  },
  {
   "cell_type": "code",
   "execution_count": 54,
   "id": "d622da8c",
   "metadata": {
    "scrolled": false
   },
   "outputs": [
    {
     "data": {
      "image/png": "[encoded data removed]",
      "text/plain": [
       "<Figure size 400x300 with 1 Axes>"
      ]
     },
     "metadata": {},
     "output_type": "display_data"
    }
   ],
   "source": [
    "plot(np.tan, \"tanh\")"
   ]
  },
  {
   "cell_type": "markdown",
   "id": "824359a8",
   "metadata": {},
   "source": [
    "+ sigmoid\n",
    "\n",
    "$$ z(x) = \\frac{1}{1+e^{-x}} $$\n",
    "\n",
    "$$ z'(x) = \\frac{e^{-x}}{(1+e^{-x})^2} = z(x)[1-z(x)] $$\n",
    "\n",
    "*Hint for HW3*: You are going to use this in Logistic Regression"
   ]
  },
  {
   "cell_type": "code",
   "execution_count": 55,
   "id": "e8771338",
   "metadata": {},
   "outputs": [
    {
     "data": {
      "image/png": "[encoded data removed]",
      "text/plain": [
       "<Figure size 400x300 with 1 Axes>"
      ]
     },
     "metadata": {},
     "output_type": "display_data"
    }
   ],
   "source": [
    "def sigmoid(x):\n",
    "    return 1/(1+np.exp(-x))\n",
    "\n",
    "plot(sigmoid, \"sigmoid\")"
   ]
  },
  {
   "cell_type": "markdown",
   "id": "01861821",
   "metadata": {},
   "source": [
    "+ ReLU\n",
    "\n",
    "$$ z(x) = \\max(0, x) $$\n",
    "\n",
    "$${z'(x) = \\begin{cases}\n",
    "1 & x > 0 \\\\\n",
    "0 & x < 0\n",
    "\\end{cases}}$$"
   ]
  },
  {
   "cell_type": "code",
   "execution_count": 56,
   "id": "aa5ea81c",
   "metadata": {
    "scrolled": true
   },
   "outputs": [
    {
     "data": {
      "image/png": "[encoded data removed]",
      "text/plain": [
       "<Figure size 400x300 with 1 Axes>"
      ]
     },
     "metadata": {},
     "output_type": "display_data"
    }
   ],
   "source": [
    "def relu(x):\n",
    "    return x * (x > 0) \n",
    "\n",
    "plot(relu, \"ReLU\")"
   ]
  },
  {
   "cell_type": "markdown",
   "id": "e48c2faa",
   "metadata": {},
   "source": [
    "+ More: https://en.wikipedia.org/wiki/Activation_function"
   ]
  },
  {
   "cell_type": "markdown",
   "id": "28bb3e1d",
   "metadata": {},
   "source": [
    "## 3. RDKit\n",
    "\n",
    "### Introduction\n",
    "\n",
    "RDKit is open-source toolkit for cheminformatics and it provides API in C++, Python, Java, C# and even JavaScript.\n",
    "\n",
    "Funtionalities:\n",
    "\n",
    "+ 2D and 3D molecular operations\n",
    "+ Descriptor generation for machine learning\n",
    "+ ...\n",
    "\n",
    "References:\n",
    "\n",
    "+ [RDKit Website](https://www.rdkit.org/)\n",
    "+ [RDKit Python API](https://www.rdkit.org/docs/api-docs.html)\n",
    "\n",
    "### Installation\n",
    "\n",
    "`conda activate c142` (replace with your environment name)\n",
    "\n",
    "`conda install rdkit -c conda-forge -y` (this may take some time)"
   ]
  },
  {
   "cell_type": "markdown",
   "id": "fdd184aa",
   "metadata": {},
   "source": [
    "### SMILES\n",
    "\n",
    "+ [Reference](https://www.daylight.com/dayhtml/doc/theory/theory.smiles.html)\n",
    "+ [A website for converting structures to SMILES](https://web.chemdoodle.com/demos/smiles#customise-template)\n",
    "+ [A website for converting SMILES to structures](https://cdb.ics.uci.edu/cgibin/Smi2DepictWeb.py)\n",
    "\n",
    "SMILES (**S**implified **M**olecular **I**nput **L**ine **E**ntry **S**ystem) is a line notation (a typographical method using printable characters) for entering and representing molecules and reactions.\n",
    "\n",
    "#### Examples:\n",
    "\n",
    "+ Methane: C\n",
    "+ Ethene: C=C\n",
    "+ Hydrogen cyanide: C#N\n",
    "+ Neopentane: C(C)(C)(C)C\n",
    "+ Cyclohexane: C1CCCCC1\n",
    "+ Benzene: c1ccccc1\n",
    "\n",
    "\n",
    "#### Basic Rules:\n",
    "\n",
    "+ Atoms are specified by its symbol with square brakets `[]` except for B, C, N, O, P, S, F, Cl, Br, I when they are normal valenced. **Hydrogens are implicitly represented.**\n",
    "+ Bonds are specified with \"-\" (single), \"=\" (double) or \"#\" (triple).\n",
    "+ Branches are specified by enclosing them in parentheses, and can be nested or stacked. \n",
    "+ Cyclic structures are represented by breaking one bond in each ring. The bonds are numbered in any order, designating ring opening (or ring closure) bonds by a digit immediately following the atomic symbol at each ring closure.\n",
    "+ Aromatic systems can be specified with lowercase characters or in Kekule form (in practice the latter may be preferred).\n",
    "+ ..."
   ]
  },
  {
   "cell_type": "markdown",
   "id": "77798bc0",
   "metadata": {},
   "source": [
    "### Basic Usage"
   ]
  },
  {
   "cell_type": "code",
   "execution_count": 67,
   "id": "26fb1394",
   "metadata": {
    "scrolled": true
   },
   "outputs": [],
   "source": [
    "from rdkit import Chem\n",
    "from rdkit.Chem import AllChem, Draw"
   ]
  },
  {
   "cell_type": "markdown",
   "id": "60919095",
   "metadata": {},
   "source": [
    "Parse a SMILES string to a `Mol` object."
   ]
  },
  {
   "cell_type": "code",
   "execution_count": 68,
   "id": "864225da",
   "metadata": {},
   "outputs": [
    {
     "data": {
      "image/png": "[encoded data removed]",
      "text/plain": [
       "<rdkit.Chem.rdchem.Mol at 0x7fbb393206a0>"
      ]
     },
     "execution_count": 68,
     "metadata": {},
     "output_type": "execute_result"
    }
   ],
   "source": [
    "mol = Chem.MolFromSmiles(\"CC(=O)NC\")\n",
    "mol"
   ]
  },
  {
   "cell_type": "code",
   "execution_count": 69,
   "id": "906ba64f",
   "metadata": {},
   "outputs": [
    {
     "data": {
      "image/png": "[encoded data removed]",
      "text/plain": [
       "<PIL.PngImagePlugin.PngImageFile image mode=RGB size=300x300>"
      ]
     },
     "execution_count": 69,
     "metadata": {},
     "output_type": "execute_result"
    }
   ],
   "source": [
    "# if not displayed, use the following code\n",
    "Draw.MolToImage(mol)"
   ]
  },
  {
   "cell_type": "markdown",
   "id": "594a91f8",
   "metadata": {},
   "source": [
    "Export a molecule to SMILES"
   ]
  },
  {
   "cell_type": "code",
   "execution_count": 70,
   "id": "27ec4a40",
   "metadata": {},
   "outputs": [
    {
     "data": {
      "text/plain": [
       "'CNC(C)=O'"
      ]
     },
     "execution_count": 70,
     "metadata": {},
     "output_type": "execute_result"
    }
   ],
   "source": [
    "Chem.MolToSmiles(mol)"
   ]
  },
  {
   "cell_type": "markdown",
   "id": "ee316974",
   "metadata": {},
   "source": [
    "Looping over atoms"
   ]
  },
  {
   "cell_type": "code",
   "execution_count": 71,
   "id": "ff5f3172",
   "metadata": {},
   "outputs": [
    {
     "name": "stdout",
     "output_type": "stream",
     "text": [
      "<class 'rdkit.Chem.rdchem.Atom'> 0 C\n",
      "<class 'rdkit.Chem.rdchem.Atom'> 1 C\n",
      "<class 'rdkit.Chem.rdchem.Atom'> 2 O\n",
      "<class 'rdkit.Chem.rdchem.Atom'> 3 N\n",
      "<class 'rdkit.Chem.rdchem.Atom'> 4 C\n"
     ]
    }
   ],
   "source": [
    "for atom in mol.GetAtoms():\n",
    "    print(type(atom), atom.GetIdx(), atom.GetSymbol())"
   ]
  },
  {
   "cell_type": "markdown",
   "id": "e8261a83",
   "metadata": {},
   "source": [
    "Add hydrogens (make hydrogens explicitly)"
   ]
  },
  {
   "cell_type": "code",
   "execution_count": 72,
   "id": "c6a1fac4",
   "metadata": {},
   "outputs": [
    {
     "data": {
      "image/png": "[encoded data removed]",
      "text/plain": [
       "<rdkit.Chem.rdchem.Mol at 0x7fbb38d9eb80>"
      ]
     },
     "execution_count": 72,
     "metadata": {},
     "output_type": "execute_result"
    }
   ],
   "source": [
    "mol_h = Chem.AddHs(mol)\n",
    "mol_h"
   ]
  },
  {
   "cell_type": "code",
   "execution_count": 73,
   "id": "b133cf03",
   "metadata": {},
   "outputs": [
    {
     "name": "stdout",
     "output_type": "stream",
     "text": [
      "<class 'rdkit.Chem.rdchem.Atom'> 0 C\n",
      "<class 'rdkit.Chem.rdchem.Atom'> 1 C\n",
      "<class 'rdkit.Chem.rdchem.Atom'> 2 O\n",
      "<class 'rdkit.Chem.rdchem.Atom'> 3 N\n",
      "<class 'rdkit.Chem.rdchem.Atom'> 4 C\n",
      "<class 'rdkit.Chem.rdchem.Atom'> 5 H\n",
      "<class 'rdkit.Chem.rdchem.Atom'> 6 H\n",
      "<class 'rdkit.Chem.rdchem.Atom'> 7 H\n",
      "<class 'rdkit.Chem.rdchem.Atom'> 8 H\n",
      "<class 'rdkit.Chem.rdchem.Atom'> 9 H\n",
      "<class 'rdkit.Chem.rdchem.Atom'> 10 H\n",
      "<class 'rdkit.Chem.rdchem.Atom'> 11 H\n"
     ]
    }
   ],
   "source": [
    "for atom in mol_h.GetAtoms():\n",
    "    print(type(atom), atom.GetIdx(), atom.GetSymbol())"
   ]
  },
  {
   "cell_type": "markdown",
   "id": "67470b0f",
   "metadata": {},
   "source": [
    "Delete hydrogens"
   ]
  },
  {
   "cell_type": "code",
   "execution_count": 74,
   "id": "ceb62e39",
   "metadata": {},
   "outputs": [
    {
     "data": {
      "image/png": "[encoded data removed]",
      "text/plain": [
       "<rdkit.Chem.rdchem.Mol at 0x7fbb3a59c280>"
      ]
     },
     "execution_count": 74,
     "metadata": {},
     "output_type": "execute_result"
    }
   ],
   "source": [
    "mol_no_h = Chem.RemoveHs(mol)\n",
    "mol_no_h"
   ]
  },
  {
   "cell_type": "markdown",
   "id": "16a43182",
   "metadata": {},
   "source": [
    "Generate a 3D structure."
   ]
  },
  {
   "cell_type": "code",
   "execution_count": 75,
   "id": "64bfb0c0",
   "metadata": {},
   "outputs": [
    {
     "data": {
      "text/plain": [
       "0"
      ]
     },
     "execution_count": 75,
     "metadata": {},
     "output_type": "execute_result"
    }
   ],
   "source": [
    "AllChem.EmbedMolecule(mol_h)"
   ]
  },
  {
   "cell_type": "markdown",
   "id": "59b906c0",
   "metadata": {},
   "source": [
    "Optimize the structure with MMFF94 force field"
   ]
  },
  {
   "cell_type": "code",
   "execution_count": 76,
   "id": "227b34ff",
   "metadata": {},
   "outputs": [
    {
     "data": {
      "text/plain": [
       "0"
      ]
     },
     "execution_count": 76,
     "metadata": {},
     "output_type": "execute_result"
    }
   ],
   "source": [
    "AllChem.MMFFOptimizeMolecule(mol_h)"
   ]
  },
  {
   "cell_type": "markdown",
   "id": "2f003963",
   "metadata": {},
   "source": [
    "I/O with .mol or .sdf format"
   ]
  },
  {
   "cell_type": "code",
   "execution_count": 77,
   "id": "ccea71a1",
   "metadata": {},
   "outputs": [],
   "source": [
    "Chem.MolToMolFile(mol_h, \"molecule.mol\")"
   ]
  },
  {
   "cell_type": "code",
   "execution_count": 78,
   "id": "1bd8148b",
   "metadata": {},
   "outputs": [],
   "source": [
    "writer = Chem.SDWriter(\"molecule.sdf\")\n",
    "writer.write(mol_h)\n",
    "writer.close()"
   ]
  },
  {
   "cell_type": "code",
   "execution_count": 1,
   "id": "df00ab3b",
   "metadata": {},
   "outputs": [
    {
     "ename": "NameError",
     "evalue": "name 'Chem' is not defined",
     "output_type": "error",
     "traceback": [
      "\u001b[0;31m---------------------------------------------------------------------------\u001b[0m",
      "\u001b[0;31mNameError\u001b[0m                                 Traceback (most recent call last)",
      "Cell \u001b[0;32mIn[1], line 1\u001b[0m\n\u001b[0;32m----> 1\u001b[0m mol_h \u001b[38;5;241m=\u001b[39m \u001b[43mChem\u001b[49m\u001b[38;5;241m.\u001b[39mMolFromMolFile(\u001b[38;5;124m\"\u001b[39m\u001b[38;5;124mmolecule.mol\u001b[39m\u001b[38;5;124m\"\u001b[39m, removeHs\u001b[38;5;241m=\u001b[39m\u001b[38;5;28;01mFalse\u001b[39;00m)\n\u001b[1;32m      2\u001b[0m mol_h \u001b[38;5;241m=\u001b[39m Chem\u001b[38;5;241m.\u001b[39mSDMolSupplier(\u001b[38;5;124m\"\u001b[39m\u001b[38;5;124mmolecule.sdf\u001b[39m\u001b[38;5;124m\"\u001b[39m, removeHs\u001b[38;5;241m=\u001b[39m\u001b[38;5;28;01mFalse\u001b[39;00m)[\u001b[38;5;241m0\u001b[39m]\n",
      "\u001b[0;31mNameError\u001b[0m: name 'Chem' is not defined"
     ]
    }
   ],
   "source": [
    "mol_h = Chem.MolFromMolFile(\"molecule.mol\", removeHs=False)\n",
    "mol_h = Chem.SDMolSupplier(\"molecule.sdf\", removeHs=False)[0]"
   ]
  },
  {
   "cell_type": "code",
   "execution_count": 5,
   "id": "17dd9cff",
   "metadata": {},
   "outputs": [
    {
     "data": {
      "text/plain": [
       "1"
      ]
     },
     "execution_count": 5,
     "metadata": {},
     "output_type": "execute_result"
    }
   ],
   "source": [
    "s = [1, 2, 3, 4]\n",
    "t = iter(s)\n",
    "next(t)"
   ]
  },
  {
   "cell_type": "code",
   "execution_count": 17,
   "id": "33816cd5",
   "metadata": {},
   "outputs": [
    {
     "data": {
      "text/plain": [
       "[3, 4, 5, 6]"
      ]
     },
     "execution_count": 17,
     "metadata": {},
     "output_type": "execute_result"
    }
   ],
   "source": [
    "r = range(6)\n",
    "r_iter = iter(r)\n",
    "next(r_iter)\n",
    "next(r_iter)\n",
    "[x + 1 for x in r_iter]\n"
   ]
  },
  {
   "cell_type": "code",
   "execution_count": 23,
   "id": "3bbced3c",
   "metadata": {},
   "outputs": [
    {
     "data": {
      "text/plain": [
       "[5, 7, 9]"
      ]
     },
     "execution_count": 23,
     "metadata": {},
     "output_type": "execute_result"
    }
   ],
   "source": [
    "[x + y for x, y in zip([1, 2, 3], [4, 5, 6])]"
   ]
  }
 ],
 "metadata": {
  "kernelspec": {
   "display_name": "c142",
   "language": "python",
   "name": "c142"
  },
  "language_info": {
   "codemirror_mode": {
    "name": "ipython",
    "version": 3
   },
   "file_extension": ".py",
   "mimetype": "text/x-python",
   "name": "python",
   "nbconvert_exporter": "python",
   "pygments_lexer": "ipython3",
   "version": "3.8.18"
  }
 },
 "nbformat": 4,
 "nbformat_minor": 5
}
